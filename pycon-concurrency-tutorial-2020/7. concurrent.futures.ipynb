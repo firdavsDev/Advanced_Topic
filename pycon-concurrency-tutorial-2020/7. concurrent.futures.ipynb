{
 "cells": [
  {
   "cell_type": "code",
   "execution_count": 53,
   "metadata": {},
   "outputs": [],
   "source": [
    "import queue\n",
    "import multiprocessing as mp\n",
    "import concurrent.futures as cf\n",
    "\n",
    "from queue import Queue, SimpleQueue\n",
    "from concurrent.futures import ThreadPoolExecutor, ProcessPoolExecutor\n",
    "\n",
    "from datetime import datetime, timedelta\n",
    "\n",
    "import requests"
   ]
  },
  {
   "cell_type": "markdown",
   "metadata": {},
   "source": [
    "# `concurrent.futures`\n",
    "\n",
    "This lesson has a strange name. `concurrent.futures` is the name of a (relative) modern package in the Python standard library. It's a package with a beautiful and Pythonic API that abstracts us from the low level mechanisms of concurrency.\n",
    "\n",
    "**`concurrent.futures` should be your default choice for concurrent programming as much as possible**\n",
    "\n",
    "In this tutorial, we started from the low levels `threading` and `multiprocessing` because we wanted to explain the concepts behind concurrency, but `concurrent.futures` offers a much safer and intuitive API. Let's start with it.\n",
    "\n",
    "## Executors and futures\n",
    "\n",
    "#### Executors\n",
    "Executors are the entry points of `cf`. They are similar to `multiprocessing.Pool`s. Once an executor has been instantiated, we can `submit` jobs, or even `map` tasks, similar to `multiprocessin.Pool.map`. `concurrent.futures.Executor` is an abstract class. `cf` includes two concrete classes: `ThreadPoolExecutor` and `ProcessPoolExecutor`. This means that we can keep the same interface, but use completely different mechanisms just by changing the executor type we're using:"
   ]
  },
  {
   "cell_type": "code",
   "execution_count": 14,
   "metadata": {},
   "outputs": [],
   "source": [
    "def check_price(exchange, symbol, date):\n",
    "    base_url = \"http://localhost:5000\"\n",
    "    resp = requests.get(f\"{base_url}/price/{exchange}/{symbol}/{date}\")\n",
    "    return resp.json()"
   ]
  },
  {
   "cell_type": "code",
   "execution_count": 15,
   "metadata": {},
   "outputs": [
    {
     "name": "stdout",
     "output_type": "stream",
     "text": [
      "Price: $6421.14\n"
     ]
    }
   ],
   "source": [
    "with ThreadPoolExecutor(max_workers=10) as ex:\n",
    "    future = ex.submit(check_price, 'bitstamp', 'btc', '2020-04-01')\n",
    "    print(f\"Price: ${future.result()['close']}\")"
   ]
  },
  {
   "cell_type": "code",
   "execution_count": 16,
   "metadata": {},
   "outputs": [
    {
     "name": "stdout",
     "output_type": "stream",
     "text": [
      "Price: $6421.14\n"
     ]
    }
   ],
   "source": [
    "with ProcessPoolExecutor(max_workers=10, mp_context=mp.get_context('fork')) as ex:\n",
    "    future = ex.submit(check_price, 'bitstamp', 'btc', '2020-04-01')\n",
    "    print(f\"Price: ${future.result()['close']}\")"
   ]
  },
  {
   "cell_type": "markdown",
   "metadata": {},
   "source": [
    "This is the beauty of `cf`: we're using the same logic with two completely different executors; the API is the same.\n",
    "\n",
    "#### Futures\n",
    "\n",
    "As you can see from the the examples above, the `submit` method returns immediately a `Future` object. These objects are an abstraction of a task that is being processed. They have multiple useful methods that we can use (as seen in the following example). The most important one, `result(timeout=None)` will block for `timeout` seconds until a result was produced:"
   ]
  },
  {
   "cell_type": "code",
   "execution_count": 18,
   "metadata": {},
   "outputs": [
    {
     "name": "stdout",
     "output_type": "stream",
     "text": [
      "False\n",
      "Price: $6421.14\n",
      "True\n"
     ]
    }
   ],
   "source": [
    "with ThreadPoolExecutor(max_workers=10) as ex:\n",
    "    future = ex.submit(check_price, 'bitstamp', 'btc', '2020-04-01')\n",
    "    print(future.done())\n",
    "    print(f\"Price: ${future.result()['close']}\")\n",
    "    print(future.done())"
   ]
  },
  {
   "cell_type": "markdown",
   "metadata": {},
   "source": [
    "#### The `map` method\n",
    "\n",
    "Executors have a `map` method that is similar to `mp.Pool.map`, it's convenient as there are no futures to work with, but it's limited as only one parameter can be passed:"
   ]
  },
  {
   "cell_type": "code",
   "execution_count": 19,
   "metadata": {},
   "outputs": [],
   "source": [
    "EXCHANGES = ['bitfinex', 'bitstamp', 'kraken']"
   ]
  },
  {
   "cell_type": "code",
   "execution_count": 20,
   "metadata": {},
   "outputs": [],
   "source": [
    "def check_price_tuple(arg):\n",
    "    exchange, symbol, date = arg\n",
    "    base_url = \"http://localhost:5000\"\n",
    "    resp = requests.get(f\"{base_url}/price/{exchange}/{symbol}/{date}\")\n",
    "    return resp.json()"
   ]
  },
  {
   "cell_type": "code",
   "execution_count": 23,
   "metadata": {},
   "outputs": [
    {
     "name": "stdout",
     "output_type": "stream",
     "text": [
      "[6409.8, 6421.14, 6401.9]\n"
     ]
    }
   ],
   "source": [
    "with ThreadPoolExecutor(max_workers=10) as ex:\n",
    "    results = ex.map(check_price_tuple, [\n",
    "        (exchange, 'btc', '2020-04-01')\n",
    "        for exchange in EXCHANGES\n",
    "    ])\n",
    "    print([price['close'] for price in results])"
   ]
  },
  {
   "cell_type": "code",
   "execution_count": 25,
   "metadata": {},
   "outputs": [
    {
     "data": {
      "text/plain": [
       "('bitstamp', 'btc', '2020-04-01')"
      ]
     },
     "execution_count": 25,
     "metadata": {},
     "output_type": "execute_result"
    }
   ],
   "source": [
    "('bitstamp', 'btc', '2020-04-01')"
   ]
  },
  {
   "cell_type": "markdown",
   "metadata": {},
   "source": [
    "As you can see, we had to define a new special function that works by receiving a tuple instead of the individual elements.\n",
    "\n",
    "#### `submit` & `as_completed` pattern\n",
    "\n",
    "To overcome the limitation of `Executor.map`, we can use a common pattern of creating multiple futures with `Executor.submit` and waiting for them to complete with the module-level function `concurrent.futures.as_completed`:"
   ]
  },
  {
   "cell_type": "code",
   "execution_count": 27,
   "metadata": {},
   "outputs": [
    {
     "name": "stdout",
     "output_type": "stream",
     "text": [
      "Kraken: $6401.9\n",
      "Bitfinex: $6409.8\n",
      "Bitstamp: $6421.14\n"
     ]
    }
   ],
   "source": [
    "with ThreadPoolExecutor(max_workers=10) as ex:\n",
    "    futures = {\n",
    "        ex.submit(check_price, exchange, 'btc', '2020-04-01'): exchange\n",
    "        for exchange in EXCHANGES\n",
    "    }\n",
    "    for future in cf.as_completed(futures):\n",
    "        exchange = futures[future]\n",
    "        print(f\"{exchange.title()}: ${future.result()['close']}\")"
   ]
  },
  {
   "cell_type": "markdown",
   "metadata": {},
   "source": [
    "## Producer/Consumer with `concurrent.futures`\n",
    "\n",
    "I'll show you an example of the producer/consumer pattern using the `cf` module. There are multiple ways to create this pattern, I'll stick to the basics."
   ]
  },
  {
   "cell_type": "code",
   "execution_count": 37,
   "metadata": {},
   "outputs": [],
   "source": [
    "BASE_URL = \"http://localhost:5000\""
   ]
  },
  {
   "cell_type": "code",
   "execution_count": 38,
   "metadata": {},
   "outputs": [],
   "source": [
    "resp = requests.get(f\"{BASE_URL}/exchanges\")"
   ]
  },
  {
   "cell_type": "code",
   "execution_count": 39,
   "metadata": {},
   "outputs": [
    {
     "data": {
      "text/plain": [
       "['bitfinex', 'bitstamp', 'bittrex']"
      ]
     },
     "execution_count": 39,
     "metadata": {},
     "output_type": "execute_result"
    }
   ],
   "source": [
    "EXCHANGES = resp.json()\n",
    "EXCHANGES[:3]"
   ]
  },
  {
   "cell_type": "code",
   "execution_count": 40,
   "metadata": {},
   "outputs": [],
   "source": [
    "START_DATE = datetime(2020, 3, 1)"
   ]
  },
  {
   "cell_type": "code",
   "execution_count": 41,
   "metadata": {},
   "outputs": [],
   "source": [
    "DATES = [(START_DATE + timedelta(days=i)).strftime('%Y-%m-%d') for i in range(31)]"
   ]
  },
  {
   "cell_type": "code",
   "execution_count": 42,
   "metadata": {},
   "outputs": [
    {
     "data": {
      "text/plain": [
       "['2020-03-01', '2020-03-02', '2020-03-03']"
      ]
     },
     "execution_count": 42,
     "metadata": {},
     "output_type": "execute_result"
    }
   ],
   "source": [
    "DATES[:3]"
   ]
  },
  {
   "cell_type": "code",
   "execution_count": 43,
   "metadata": {},
   "outputs": [],
   "source": [
    "resp = requests.get(f\"{BASE_URL}/symbols\")"
   ]
  },
  {
   "cell_type": "code",
   "execution_count": 44,
   "metadata": {},
   "outputs": [
    {
     "data": {
      "text/plain": [
       "['btc', 'eth', 'ltc']"
      ]
     },
     "execution_count": 44,
     "metadata": {},
     "output_type": "execute_result"
    }
   ],
   "source": [
    "SYMBOLS = resp.json()\n",
    "SYMBOLS"
   ]
  },
  {
   "cell_type": "markdown",
   "metadata": {},
   "source": [
    "Queues:"
   ]
  },
  {
   "cell_type": "code",
   "execution_count": 85,
   "metadata": {},
   "outputs": [],
   "source": [
    "work_to_do = Queue()\n",
    "work_done = SimpleQueue()"
   ]
  },
  {
   "cell_type": "code",
   "execution_count": 86,
   "metadata": {},
   "outputs": [],
   "source": [
    "for exchange in EXCHANGES:\n",
    "    for date in DATES:\n",
    "        for symbol in SYMBOLS:\n",
    "            task = {\n",
    "                'exchange': exchange,\n",
    "                'symbol': symbol,\n",
    "                'date': date,\n",
    "            }\n",
    "            work_to_do.put(task)"
   ]
  },
  {
   "cell_type": "code",
   "execution_count": 87,
   "metadata": {},
   "outputs": [
    {
     "data": {
      "text/plain": [
       "1023"
      ]
     },
     "execution_count": 87,
     "metadata": {},
     "output_type": "execute_result"
    }
   ],
   "source": [
    "work_to_do.qsize()"
   ]
  },
  {
   "cell_type": "code",
   "execution_count": 88,
   "metadata": {},
   "outputs": [],
   "source": [
    "def worker(task_queue, results_queue):\n",
    "    while True:\n",
    "        try:\n",
    "            task = task_queue.get(block=False)\n",
    "        except queue.Empty:\n",
    "            print('Queue is empty! My work here is done. Exiting.')\n",
    "            return\n",
    "        exchange, symbol, date = task['exchange'], task['symbol'], task['date']\n",
    "        price = check_price(exchange, symbol, date)\n",
    "        results_queue.put((price, exchange, symbol, date))\n",
    "        task_queue.task_done()"
   ]
  },
  {
   "cell_type": "code",
   "execution_count": 89,
   "metadata": {},
   "outputs": [
    {
     "name": "stdout",
     "output_type": "stream",
     "text": [
      "Queue is empty! My work here is done. Exiting.\n",
      "Queue is empty! My work here is done. Exiting.\n",
      "Queue is empty! My work here is done. Exiting.Queue is empty! My work here is done. Exiting.\n",
      "\n",
      "Queue is empty! My work here is done. Exiting.\n",
      "Queue is empty! My work here is done. Exiting.\n",
      "Queue is empty! My work here is done. Exiting.Queue is empty! My work here is done. Exiting.\n",
      "\n",
      "Queue is empty! My work here is done. Exiting.\n",
      "Queue is empty! My work here is done. Exiting.\n",
      "Queue is empty! My work here is done. Exiting.\n",
      "Queue is empty! My work here is done. Exiting.\n",
      "Queue is empty! My work here is done. Exiting.\n",
      "Queue is empty! My work here is done. Exiting.\n",
      "Queue is empty! My work here is done. Exiting.\n",
      "Queue is empty! My work here is done. Exiting.\n",
      "Queue is empty! My work here is done. Exiting.Queue is empty! My work here is done. Exiting.\n",
      "\n",
      "Queue is empty! My work here is done. Exiting.\n",
      "Queue is empty! My work here is done. Exiting.\n",
      "Queue is empty! My work here is done. Exiting.\n",
      "Queue is empty! My work here is done. Exiting.\n",
      "Queue is empty! My work here is done. Exiting.\n",
      "Queue is empty! My work here is done. Exiting.\n",
      "Queue is empty! My work here is done. Exiting.\n",
      "Queue is empty! My work here is done. Exiting.\n",
      "Queue is empty! My work here is done. Exiting.Queue is empty! My work here is done. Exiting.\n",
      "\n",
      "Queue is empty! My work here is done. Exiting.\n",
      "Queue is empty! My work here is done. Exiting.\n",
      "Queue is empty! My work here is done. Exiting.\n",
      "Queue is empty! My work here is done. Exiting.\n"
     ]
    }
   ],
   "source": [
    "with ThreadPoolExecutor(max_workers=32) as ex:\n",
    "    futures = [\n",
    "        ex.submit(worker, work_to_do, work_done) for _ in range(32)\n",
    "    ]\n",
    "    work_to_do.join()"
   ]
  },
  {
   "cell_type": "code",
   "execution_count": 90,
   "metadata": {},
   "outputs": [
    {
     "data": {
      "text/plain": [
       "True"
      ]
     },
     "execution_count": 90,
     "metadata": {},
     "output_type": "execute_result"
    }
   ],
   "source": [
    "all([f.done() for f in futures])"
   ]
  },
  {
   "cell_type": "code",
   "execution_count": 91,
   "metadata": {},
   "outputs": [
    {
     "data": {
      "text/plain": [
       "1023"
      ]
     },
     "execution_count": 91,
     "metadata": {},
     "output_type": "execute_result"
    }
   ],
   "source": [
    "work_done.qsize()"
   ]
  },
  {
   "cell_type": "code",
   "execution_count": 92,
   "metadata": {},
   "outputs": [],
   "source": [
    "results = {}"
   ]
  },
  {
   "cell_type": "code",
   "execution_count": 93,
   "metadata": {},
   "outputs": [],
   "source": [
    "while True:\n",
    "    try:\n",
    "        price, exchange, symbol, date = work_done.get(block=None)\n",
    "        results.setdefault(exchange, {})\n",
    "        results[exchange].setdefault(date, {})\n",
    "        results[exchange][date][symbol] = price['close'] if price else None\n",
    "    except queue.Empty:\n",
    "        break"
   ]
  },
  {
   "cell_type": "code",
   "execution_count": 95,
   "metadata": {},
   "outputs": [
    {
     "data": {
      "text/plain": [
       "7941"
      ]
     },
     "execution_count": 95,
     "metadata": {},
     "output_type": "execute_result"
    }
   ],
   "source": [
    "results['bitfinex']['2020-03-10']['btc']"
   ]
  },
  {
   "cell_type": "code",
   "execution_count": 96,
   "metadata": {},
   "outputs": [
    {
     "data": {
      "text/plain": [
       "7936.25"
      ]
     },
     "execution_count": 96,
     "metadata": {},
     "output_type": "execute_result"
    }
   ],
   "source": [
    "results['bitstamp']['2020-03-10']['btc']"
   ]
  },
  {
   "cell_type": "code",
   "execution_count": 98,
   "metadata": {},
   "outputs": [
    {
     "data": {
      "text/plain": [
       "7934.52"
      ]
     },
     "execution_count": 98,
     "metadata": {},
     "output_type": "execute_result"
    }
   ],
   "source": [
    "results['coinbase-pro']['2020-03-10']['btc']"
   ]
  },
  {
   "cell_type": "markdown",
   "metadata": {},
   "source": [
    "## Summary\n",
    "\n",
    "The `concurrent.futures` module is the most abstract, highest level concurrency module in the Python standard library and **it SHOULD be your default option** when writing concurrent code. Only if you need more advanced capabilities, you should use the `threading` or `multiprocessing` modules directly."
   ]
  }
 ],
 "metadata": {
  "kernelspec": {
   "display_name": "Python 3",
   "language": "python",
   "name": "python3"
  },
  "language_info": {
   "codemirror_mode": {
    "name": "ipython",
    "version": 3
   },
   "file_extension": ".py",
   "mimetype": "text/x-python",
   "name": "python",
   "nbconvert_exporter": "python",
   "pygments_lexer": "ipython3",
   "version": "3.8.0"
  }
 },
 "nbformat": 4,
 "nbformat_minor": 4
}
