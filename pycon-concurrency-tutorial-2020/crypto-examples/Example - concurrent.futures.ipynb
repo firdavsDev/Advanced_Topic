{
 "cells": [
  {
   "cell_type": "code",
   "execution_count": 52,
   "metadata": {},
   "outputs": [],
   "source": [
    "import random\n",
    "import itertools\n",
    "from concurrent.futures import ThreadPoolExecutor, as_completed\n",
    "\n",
    "import requests\n",
    "import pandas as pd\n",
    "import speaker_buddy as buddy"
   ]
  },
  {
   "cell_type": "markdown",
   "metadata": {},
   "source": [
    "### Exchanges"
   ]
  },
  {
   "cell_type": "code",
   "execution_count": 16,
   "metadata": {},
   "outputs": [],
   "source": [
    "EXCHANGES= [\n",
    "    'bitfinex',\n",
    "    'coinbase-pro',\n",
    "    'bitstamp',\n",
    "    'kraken',\n",
    "    'cexio',\n",
    "    'okcoin',\n",
    "    'bitmex',\n",
    "    'mexbt',\n",
    "    'huobi',\n",
    "    'poloniex',\n",
    "    'bittrex',\n",
    "    'okex',\n",
    "    'hitbtc'\n",
    "]"
   ]
  },
  {
   "cell_type": "markdown",
   "metadata": {},
   "source": [
    "### Symbols"
   ]
  },
  {
   "cell_type": "code",
   "execution_count": 17,
   "metadata": {},
   "outputs": [],
   "source": [
    "SYMBOLS = ['btc', 'ltc', 'eth']"
   ]
  },
  {
   "cell_type": "markdown",
   "metadata": {},
   "source": [
    "### Combinations"
   ]
  },
  {
   "cell_type": "code",
   "execution_count": 35,
   "metadata": {},
   "outputs": [],
   "source": [
    "ALL_COMBINATIONS = list(itertools.product(EXCHANGES, SYMBOLS))"
   ]
  },
  {
   "cell_type": "markdown",
   "metadata": {},
   "source": [
    "### Random Combinatios"
   ]
  },
  {
   "cell_type": "code",
   "execution_count": 36,
   "metadata": {},
   "outputs": [],
   "source": [
    "combinations = [random.choice(ALL_COMBINATIONS) for _ in range(10)]"
   ]
  },
  {
   "cell_type": "markdown",
   "metadata": {},
   "source": [
    "### Random Dates"
   ]
  },
  {
   "cell_type": "code",
   "execution_count": 29,
   "metadata": {},
   "outputs": [],
   "source": [
    "ALL_DATES = [d.strftime('%Y-%m-%d') for d in pd.date_range('2019-01-01', '2019-07-20', freq='D')]"
   ]
  },
  {
   "cell_type": "code",
   "execution_count": 30,
   "metadata": {},
   "outputs": [],
   "source": [
    "dates = [random.choice(ALL_DATES) for _ in range(5)]"
   ]
  },
  {
   "cell_type": "markdown",
   "metadata": {},
   "source": [
    "### Summary"
   ]
  },
  {
   "cell_type": "code",
   "execution_count": 31,
   "metadata": {},
   "outputs": [
    {
     "data": {
      "text/plain": [
       "['2019-07-04', '2019-02-10', '2019-03-08', '2019-04-24', '2019-07-02']"
      ]
     },
     "execution_count": 31,
     "metadata": {},
     "output_type": "execute_result"
    }
   ],
   "source": [
    "dates"
   ]
  },
  {
   "cell_type": "code",
   "execution_count": 37,
   "metadata": {},
   "outputs": [
    {
     "data": {
      "text/plain": [
       "[('cexio', 'ltc'),\n",
       " ('okex', 'ltc'),\n",
       " ('poloniex', 'btc'),\n",
       " ('coinbase-pro', 'eth'),\n",
       " ('cexio', 'btc'),\n",
       " ('hitbtc', 'ltc'),\n",
       " ('okcoin', 'btc'),\n",
       " ('hitbtc', 'btc'),\n",
       " ('okcoin', 'btc'),\n",
       " ('kraken', 'btc')]"
      ]
     },
     "execution_count": 37,
     "metadata": {},
     "output_type": "execute_result"
    }
   ],
   "source": [
    "combinations"
   ]
  },
  {
   "cell_type": "code",
   "execution_count": 40,
   "metadata": {},
   "outputs": [
    {
     "data": {
      "text/plain": [
       "[(('cexio', 'ltc'), '2019-07-04'),\n",
       " (('cexio', 'ltc'), '2019-02-10'),\n",
       " (('cexio', 'ltc'), '2019-03-08')]"
      ]
     },
     "execution_count": 40,
     "metadata": {},
     "output_type": "execute_result"
    }
   ],
   "source": [
    "data = list(itertools.product(combinations, dates))\n",
    "data[:3]"
   ]
  },
  {
   "cell_type": "code",
   "execution_count": 38,
   "metadata": {},
   "outputs": [],
   "source": [
    "URL = 'http://localhost:5000/price/{exchange}/{symbol}/{date}'"
   ]
  },
  {
   "cell_type": "code",
   "execution_count": 48,
   "metadata": {},
   "outputs": [],
   "source": [
    "price_urls = [\n",
    "        URL.format(exchange=exchange, symbol=symbol, date=date)\n",
    "    for (exchange, symbol), date in data]"
   ]
  },
  {
   "cell_type": "code",
   "execution_count": 49,
   "metadata": {},
   "outputs": [
    {
     "data": {
      "text/plain": [
       "['http://localhost:5000/price/cexio/ltc/2019-07-04',\n",
       " 'http://localhost:5000/price/cexio/ltc/2019-02-10',\n",
       " 'http://localhost:5000/price/cexio/ltc/2019-03-08']"
      ]
     },
     "execution_count": 49,
     "metadata": {},
     "output_type": "execute_result"
    }
   ],
   "source": [
    "price_urls[:3]"
   ]
  },
  {
   "cell_type": "markdown",
   "metadata": {},
   "source": [
    "---"
   ]
  },
  {
   "cell_type": "markdown",
   "metadata": {},
   "source": [
    "# Single Threaded"
   ]
  },
  {
   "cell_type": "code",
   "execution_count": 38,
   "metadata": {},
   "outputs": [],
   "source": [
    "URL = 'http://localhost:5000/price/{exchange}/{symbol}/{date}'"
   ]
  },
  {
   "cell_type": "code",
   "execution_count": 45,
   "metadata": {},
   "outputs": [
    {
     "name": "stdout",
     "output_type": "stream",
     "text": [
      "[{'exchange': 'cexio', 'symbol': 'ltc', 'open': 119.29, 'high': 123.41, 'low': 118, 'close': 121.83, 'volume': 520.39092011, 'day': '2019-07-04'}, {'exchange': 'cexio', 'symbol': 'ltc', 'open': 43.68, 'high': 47.85, 'low': 42.81, 'close': 44.67, 'volume': 1265.54319828, 'day': '2019-02-10'}, {'exchange': 'cexio', 'symbol': 'ltc', 'open': 56, 'high': 59.86, 'low': 54.65, 'close': 57.96, 'volume': 1115.05720511, 'day': '2019-03-08'}, {'exchange': 'cexio', 'symbol': 'ltc', 'open': 77.26, 'high': 80, 'low': 74.86, 'close': 74.86, 'volume': 434.31614652, 'day': '2019-04-24'}, {'exchange': 'cexio', 'symbol': 'ltc', 'open': 122.4, 'high': 126.81, 'low': 113.16, 'close': 123.65, 'volume': 993.20811934, 'day': '2019-07-02'}, {'exchange': 'okex', 'symbol': 'ltc', 'open': 118.75, 'high': 123.15, 'low': 116.8, 'close': 121.32, 'volume': 606568.249829, 'day': '2019-07-04'}, None, {'exchange': 'okex', 'symbol': 'ltc', 'open': 55.3752, 'high': 59.2, 'low': 53.9053, 'close': 56.7172, 'volume': 2452158.108558017, 'day': '2019-03-08'}, {'exchange': 'okex', 'symbol': 'ltc', 'open': 76.47, 'high': 79.31, 'low': 73.28, 'close': 73.68, 'volume': 1044648.7787879999, 'day': '2019-04-24'}, {'exchange': 'okex', 'symbol': 'ltc', 'open': 123.21, 'high': 127, 'low': 113.85, 'close': 123.19, 'volume': 944939.165724, 'day': '2019-07-02'}, {'exchange': 'poloniex', 'symbol': 'btc', 'open': 10838.63376673, 'high': 11975.92246945, 'low': 10838.63376673, 'close': 11933, 'volume': 1225.66466041, 'day': '2019-07-04'}, {'exchange': 'poloniex', 'symbol': 'btc', 'open': 3660, 'high': 3689.26, 'low': 3631.00000073, 'close': 3669.50953405, 'volume': 841.86903917, 'day': '2019-02-10'}, {'exchange': 'poloniex', 'symbol': 'btc', 'open': 3866.11, 'high': 3900.44865145, 'low': 3841.3135798, 'close': 3877.51152117, 'volume': 377.71515893, 'day': '2019-03-08'}, {'exchange': 'poloniex', 'symbol': 'btc', 'open': 5363.27633158, 'high': 5597.01, 'low': 5337.08382823, 'close': 5494.4451665, 'volume': 1017.88279532, 'day': '2019-04-24'}, {'exchange': 'poloniex', 'symbol': 'btc', 'open': 10838.63780999, 'high': 11262.5, 'low': 10043.26675341, 'close': 10623.96787549, 'volume': 1610.56658238, 'day': '2019-07-02'}, {'exchange': 'coinbase-pro', 'symbol': 'eth', 'open': 291.25, 'high': 303.83, 'low': 289.61, 'close': 301.79, 'volume': 101097.63563474, 'day': '2019-07-04'}, {'exchange': 'coinbase-pro', 'symbol': 'eth', 'open': 117.99, 'high': 119.77, 'low': 116.55, 'close': 118.06, 'volume': 68032.85693528, 'day': '2019-02-10'}, {'exchange': 'coinbase-pro', 'symbol': 'eth', 'open': 137, 'high': 139.68, 'low': 134.84, 'close': 136.29, 'volume': 78113.4575666, 'day': '2019-03-08'}, {'exchange': 'coinbase-pro', 'symbol': 'eth', 'open': 171.59, 'high': 176.94, 'low': 169.01, 'close': 169.34, 'volume': 131972.73661265, 'day': '2019-04-24'}, {'exchange': 'coinbase-pro', 'symbol': 'eth', 'open': 290.08, 'high': 301.32, 'low': 278.65, 'close': 293.7, 'volume': 175696.54419625, 'day': '2019-07-02'}, {'exchange': 'cexio', 'symbol': 'btc', 'open': 10818.7, 'high': 11998.9, 'low': 10818.7, 'close': 11988.6, 'volume': 540.89359042, 'day': '2019-07-04'}, {'exchange': 'cexio', 'symbol': 'btc', 'open': 3724, 'high': 3742, 'low': 3684, 'close': 3709.5, 'volume': 175.86107516, 'day': '2019-02-10'}, {'exchange': 'cexio', 'symbol': 'btc', 'open': 3903.8, 'high': 3930, 'low': 3877.1, 'close': 3898.9, 'volume': 161.84942462, 'day': '2019-03-08'}, {'exchange': 'cexio', 'symbol': 'btc', 'open': 5405.3, 'high': 5641.4, 'low': 5379.5, 'close': 5574.2, 'volume': 274.08682284, 'day': '2019-04-24'}, {'exchange': 'cexio', 'symbol': 'btc', 'open': 10784, 'high': 11259.9, 'low': 9950, 'close': 10579, 'volume': 745.87283121, 'day': '2019-07-02'}, {'exchange': 'hitbtc', 'symbol': 'ltc', 'open': 118.8316, 'high': 123.37799999999999, 'low': 116.8743, 'close': 121.5206, 'volume': 424933.402, 'day': '2019-07-04'}, {'exchange': 'hitbtc', 'symbol': 'ltc', 'open': 43.0133, 'high': 46.4975, 'low': 42.1681, 'close': 44.7064, 'volume': 640169.688, 'day': '2019-02-10'}, {'exchange': 'hitbtc', 'symbol': 'ltc', 'open': 55.3993, 'high': 59.0016, 'low': 53.9344, 'close': 56.7769, 'volume': 1158920.528, 'day': '2019-03-08'}, {'exchange': 'hitbtc', 'symbol': 'ltc', 'open': 76.4924, 'high': 79.1251, 'low': 73.4052, 'close': 73.6821, 'volume': 659804.748, 'day': '2019-04-24'}, {'exchange': 'hitbtc', 'symbol': 'ltc', 'open': 123.8605, 'high': 127.3117, 'low': 114.0767, 'close': 123.2534, 'volume': 924466.067, 'day': '2019-07-02'}, {'exchange': 'okcoin', 'symbol': 'btc', 'open': 10871.78, 'high': 11997.98, 'low': 10871.78, 'close': 11957.51, 'volume': 833.6389, 'day': '2019-07-04'}, {'exchange': 'okcoin', 'symbol': 'btc', 'open': 3620.29, 'high': 3643.19, 'low': 3591.42, 'close': 3628.31, 'volume': 106.8298, 'day': '2019-02-10'}, {'exchange': 'okcoin', 'symbol': 'btc', 'open': 3848.85, 'high': 3883.34, 'low': 3793.31, 'close': 3855.79, 'volume': 102.4908, 'day': '2019-03-08'}, {'exchange': 'okcoin', 'symbol': 'btc', 'open': 5385.29, 'high': 5622.81, 'low': 5368.62, 'close': 5532.01, 'volume': 224.0923, 'day': '2019-04-24'}, {'exchange': 'okcoin', 'symbol': 'btc', 'open': 10759.85, 'high': 11200.8, 'low': 9973.63, 'close': 10567.63, 'volume': 682.7259, 'day': '2019-07-02'}, {'exchange': 'hitbtc', 'symbol': 'btc', 'open': 10850.3, 'high': 11993.38, 'low': 10849.7, 'close': 11947.99, 'volume': 18418.13167, 'day': '2019-07-04'}, {'exchange': 'hitbtc', 'symbol': 'btc', 'open': 3656.98, 'high': 3681.08, 'low': 3629, 'close': 3664.41, 'volume': 12048.75765, 'day': '2019-02-10'}, {'exchange': 'hitbtc', 'symbol': 'btc', 'open': 3861.9, 'high': 3901.2, 'low': 3845.73, 'close': 3873.91, 'volume': 11708.91754, 'day': '2019-03-08'}, {'exchange': 'hitbtc', 'symbol': 'btc', 'open': 5357.36, 'high': 5598.99, 'low': 5335.21, 'close': 5495.49, 'volume': 24206.33758, 'day': '2019-04-24'}, {'exchange': 'hitbtc', 'symbol': 'btc', 'open': 10889.88, 'high': 11301.9, 'low': 10050.1, 'close': 10630.6, 'volume': 12493.17406, 'day': '2019-07-02'}, {'exchange': 'okcoin', 'symbol': 'btc', 'open': 10871.78, 'high': 11997.98, 'low': 10871.78, 'close': 11957.51, 'volume': 833.6389, 'day': '2019-07-04'}, {'exchange': 'okcoin', 'symbol': 'btc', 'open': 3620.29, 'high': 3643.19, 'low': 3591.42, 'close': 3628.31, 'volume': 106.8298, 'day': '2019-02-10'}, {'exchange': 'okcoin', 'symbol': 'btc', 'open': 3848.85, 'high': 3883.34, 'low': 3793.31, 'close': 3855.79, 'volume': 102.4908, 'day': '2019-03-08'}, {'exchange': 'okcoin', 'symbol': 'btc', 'open': 5385.29, 'high': 5622.81, 'low': 5368.62, 'close': 5532.01, 'volume': 224.0923, 'day': '2019-04-24'}, {'exchange': 'okcoin', 'symbol': 'btc', 'open': 10759.85, 'high': 11200.8, 'low': 9973.63, 'close': 10567.63, 'volume': 682.7259, 'day': '2019-07-02'}, {'exchange': 'kraken', 'symbol': 'btc', 'open': 10837.2, 'high': 12037, 'low': 10807.3, 'close': 11979.8, 'volume': 16123.60034549, 'day': '2019-07-04'}, {'exchange': 'kraken', 'symbol': 'btc', 'open': 3622.1, 'high': 3744.2, 'low': 3589.6, 'close': 3625.7, 'volume': 3623.0668471, 'day': '2019-02-10'}, {'exchange': 'kraken', 'symbol': 'btc', 'open': 3851.7, 'high': 3891.4, 'low': 3829.9, 'close': 3854, 'volume': 4079.0419958, 'day': '2019-03-08'}, {'exchange': 'kraken', 'symbol': 'btc', 'open': 5384, 'high': 5645, 'low': 5363.3, 'close': 5525.4, 'volume': 8263.20082226, 'day': '2019-04-24'}, {'exchange': 'kraken', 'symbol': 'btc', 'open': 10749.4, 'high': 11239, 'low': 9900, 'close': 10575.9, 'volume': 14633.39438537, 'day': '2019-07-02'}]\n"
     ]
    }
   ],
   "source": [
    "with buddy.measure_time() as tm:\n",
    "    responses = [requests.get(url) for url in price_urls]\n",
    "\n",
    "print([r.json() for r in responses])"
   ]
  },
  {
   "cell_type": "code",
   "execution_count": 46,
   "metadata": {},
   "outputs": [
    {
     "name": "stdout",
     "output_type": "stream",
     "text": [
      "Total duration: 10.85 seconds\n"
     ]
    }
   ],
   "source": [
    "tm.print()"
   ]
  },
  {
   "cell_type": "markdown",
   "metadata": {},
   "source": [
    "# Multi threaded"
   ]
  },
  {
   "cell_type": "code",
   "execution_count": 53,
   "metadata": {},
   "outputs": [],
   "source": [
    "def get_price(url):\n",
    "    resp = requests.get(url)\n",
    "    return resp.json()"
   ]
  },
  {
   "cell_type": "code",
   "execution_count": 54,
   "metadata": {},
   "outputs": [
    {
     "name": "stdout",
     "output_type": "stream",
     "text": [
      "{'exchange': 'cexio', 'symbol': 'ltc', 'open': 43.68, 'high': 47.85, 'low': 42.81, 'close': 44.67, 'volume': 1265.54319828, 'day': '2019-02-10'}\n",
      "{'exchange': 'cexio', 'symbol': 'ltc', 'open': 119.29, 'high': 123.41, 'low': 118, 'close': 121.83, 'volume': 520.39092011, 'day': '2019-07-04'}\n",
      "{'exchange': 'okex', 'symbol': 'ltc', 'open': 118.75, 'high': 123.15, 'low': 116.8, 'close': 121.32, 'volume': 606568.249829, 'day': '2019-07-04'}\n",
      "{'exchange': 'cexio', 'symbol': 'ltc', 'open': 56, 'high': 59.86, 'low': 54.65, 'close': 57.96, 'volume': 1115.05720511, 'day': '2019-03-08'}\n",
      "{'exchange': 'cexio', 'symbol': 'ltc', 'open': 77.26, 'high': 80, 'low': 74.86, 'close': 74.86, 'volume': 434.31614652, 'day': '2019-04-24'}\n",
      "None\n",
      "{'exchange': 'cexio', 'symbol': 'ltc', 'open': 122.4, 'high': 126.81, 'low': 113.16, 'close': 123.65, 'volume': 993.20811934, 'day': '2019-07-02'}\n",
      "{'exchange': 'okex', 'symbol': 'ltc', 'open': 76.47, 'high': 79.31, 'low': 73.28, 'close': 73.68, 'volume': 1044648.7787879999, 'day': '2019-04-24'}\n",
      "{'exchange': 'poloniex', 'symbol': 'btc', 'open': 3660, 'high': 3689.26, 'low': 3631.00000073, 'close': 3669.50953405, 'volume': 841.86903917, 'day': '2019-02-10'}\n",
      "{'exchange': 'poloniex', 'symbol': 'btc', 'open': 10838.63376673, 'high': 11975.92246945, 'low': 10838.63376673, 'close': 11933, 'volume': 1225.66466041, 'day': '2019-07-04'}\n",
      "{'exchange': 'okex', 'symbol': 'ltc', 'open': 123.21, 'high': 127, 'low': 113.85, 'close': 123.19, 'volume': 944939.165724, 'day': '2019-07-02'}\n",
      "{'exchange': 'poloniex', 'symbol': 'btc', 'open': 3866.11, 'high': 3900.44865145, 'low': 3841.3135798, 'close': 3877.51152117, 'volume': 377.71515893, 'day': '2019-03-08'}\n",
      "{'exchange': 'poloniex', 'symbol': 'btc', 'open': 5363.27633158, 'high': 5597.01, 'low': 5337.08382823, 'close': 5494.4451665, 'volume': 1017.88279532, 'day': '2019-04-24'}\n",
      "{'exchange': 'poloniex', 'symbol': 'btc', 'open': 10838.63780999, 'high': 11262.5, 'low': 10043.26675341, 'close': 10623.96787549, 'volume': 1610.56658238, 'day': '2019-07-02'}\n",
      "{'exchange': 'okex', 'symbol': 'ltc', 'open': 55.3752, 'high': 59.2, 'low': 53.9053, 'close': 56.7172, 'volume': 2452158.108558017, 'day': '2019-03-08'}\n",
      "{'exchange': 'coinbase-pro', 'symbol': 'eth', 'open': 290.08, 'high': 301.32, 'low': 278.65, 'close': 293.7, 'volume': 175696.54419625, 'day': '2019-07-02'}\n",
      "{'exchange': 'coinbase-pro', 'symbol': 'eth', 'open': 291.25, 'high': 303.83, 'low': 289.61, 'close': 301.79, 'volume': 101097.63563474, 'day': '2019-07-04'}\n",
      "{'exchange': 'coinbase-pro', 'symbol': 'eth', 'open': 171.59, 'high': 176.94, 'low': 169.01, 'close': 169.34, 'volume': 131972.73661265, 'day': '2019-04-24'}\n",
      "{'exchange': 'coinbase-pro', 'symbol': 'eth', 'open': 117.99, 'high': 119.77, 'low': 116.55, 'close': 118.06, 'volume': 68032.85693528, 'day': '2019-02-10'}\n",
      "{'exchange': 'coinbase-pro', 'symbol': 'eth', 'open': 137, 'high': 139.68, 'low': 134.84, 'close': 136.29, 'volume': 78113.4575666, 'day': '2019-03-08'}\n",
      "{'exchange': 'cexio', 'symbol': 'btc', 'open': 10818.7, 'high': 11998.9, 'low': 10818.7, 'close': 11988.6, 'volume': 540.89359042, 'day': '2019-07-04'}\n",
      "{'exchange': 'cexio', 'symbol': 'btc', 'open': 3724, 'high': 3742, 'low': 3684, 'close': 3709.5, 'volume': 175.86107516, 'day': '2019-02-10'}\n",
      "{'exchange': 'cexio', 'symbol': 'btc', 'open': 3903.8, 'high': 3930, 'low': 3877.1, 'close': 3898.9, 'volume': 161.84942462, 'day': '2019-03-08'}\n",
      "{'exchange': 'cexio', 'symbol': 'btc', 'open': 5405.3, 'high': 5641.4, 'low': 5379.5, 'close': 5574.2, 'volume': 274.08682284, 'day': '2019-04-24'}\n",
      "{'exchange': 'hitbtc', 'symbol': 'ltc', 'open': 43.0133, 'high': 46.4975, 'low': 42.1681, 'close': 44.7064, 'volume': 640169.688, 'day': '2019-02-10'}\n",
      "{'exchange': 'cexio', 'symbol': 'btc', 'open': 10784, 'high': 11259.9, 'low': 9950, 'close': 10579, 'volume': 745.87283121, 'day': '2019-07-02'}\n",
      "{'exchange': 'okcoin', 'symbol': 'btc', 'open': 10871.78, 'high': 11997.98, 'low': 10871.78, 'close': 11957.51, 'volume': 833.6389, 'day': '2019-07-04'}\n",
      "{'exchange': 'hitbtc', 'symbol': 'ltc', 'open': 118.8316, 'high': 123.37799999999999, 'low': 116.8743, 'close': 121.5206, 'volume': 424933.402, 'day': '2019-07-04'}\n",
      "{'exchange': 'hitbtc', 'symbol': 'ltc', 'open': 76.4924, 'high': 79.1251, 'low': 73.4052, 'close': 73.6821, 'volume': 659804.748, 'day': '2019-04-24'}\n",
      "{'exchange': 'okcoin', 'symbol': 'btc', 'open': 5385.29, 'high': 5622.81, 'low': 5368.62, 'close': 5532.01, 'volume': 224.0923, 'day': '2019-04-24'}\n",
      "{'exchange': 'okcoin', 'symbol': 'btc', 'open': 10759.85, 'high': 11200.8, 'low': 9973.63, 'close': 10567.63, 'volume': 682.7259, 'day': '2019-07-02'}\n",
      "{'exchange': 'hitbtc', 'symbol': 'ltc', 'open': 123.8605, 'high': 127.3117, 'low': 114.0767, 'close': 123.2534, 'volume': 924466.067, 'day': '2019-07-02'}\n",
      "{'exchange': 'hitbtc', 'symbol': 'ltc', 'open': 55.3993, 'high': 59.0016, 'low': 53.9344, 'close': 56.7769, 'volume': 1158920.528, 'day': '2019-03-08'}\n",
      "{'exchange': 'okcoin', 'symbol': 'btc', 'open': 3620.29, 'high': 3643.19, 'low': 3591.42, 'close': 3628.31, 'volume': 106.8298, 'day': '2019-02-10'}\n",
      "{'exchange': 'okcoin', 'symbol': 'btc', 'open': 3848.85, 'high': 3883.34, 'low': 3793.31, 'close': 3855.79, 'volume': 102.4908, 'day': '2019-03-08'}\n",
      "{'exchange': 'hitbtc', 'symbol': 'btc', 'open': 3656.98, 'high': 3681.08, 'low': 3629, 'close': 3664.41, 'volume': 12048.75765, 'day': '2019-02-10'}\n",
      "{'exchange': 'hitbtc', 'symbol': 'btc', 'open': 10850.3, 'high': 11993.38, 'low': 10849.7, 'close': 11947.99, 'volume': 18418.13167, 'day': '2019-07-04'}\n",
      "{'exchange': 'hitbtc', 'symbol': 'btc', 'open': 10889.88, 'high': 11301.9, 'low': 10050.1, 'close': 10630.6, 'volume': 12493.17406, 'day': '2019-07-02'}\n",
      "{'exchange': 'hitbtc', 'symbol': 'btc', 'open': 5357.36, 'high': 5598.99, 'low': 5335.21, 'close': 5495.49, 'volume': 24206.33758, 'day': '2019-04-24'}\n",
      "{'exchange': 'hitbtc', 'symbol': 'btc', 'open': 3861.9, 'high': 3901.2, 'low': 3845.73, 'close': 3873.91, 'volume': 11708.91754, 'day': '2019-03-08'}\n",
      "{'exchange': 'okcoin', 'symbol': 'btc', 'open': 3620.29, 'high': 3643.19, 'low': 3591.42, 'close': 3628.31, 'volume': 106.8298, 'day': '2019-02-10'}\n",
      "{'exchange': 'okcoin', 'symbol': 'btc', 'open': 10871.78, 'high': 11997.98, 'low': 10871.78, 'close': 11957.51, 'volume': 833.6389, 'day': '2019-07-04'}\n",
      "{'exchange': 'okcoin', 'symbol': 'btc', 'open': 3848.85, 'high': 3883.34, 'low': 3793.31, 'close': 3855.79, 'volume': 102.4908, 'day': '2019-03-08'}\n",
      "{'exchange': 'okcoin', 'symbol': 'btc', 'open': 5385.29, 'high': 5622.81, 'low': 5368.62, 'close': 5532.01, 'volume': 224.0923, 'day': '2019-04-24'}\n",
      "{'exchange': 'okcoin', 'symbol': 'btc', 'open': 10759.85, 'high': 11200.8, 'low': 9973.63, 'close': 10567.63, 'volume': 682.7259, 'day': '2019-07-02'}\n",
      "{'exchange': 'kraken', 'symbol': 'btc', 'open': 10837.2, 'high': 12037, 'low': 10807.3, 'close': 11979.8, 'volume': 16123.60034549, 'day': '2019-07-04'}\n",
      "{'exchange': 'kraken', 'symbol': 'btc', 'open': 3851.7, 'high': 3891.4, 'low': 3829.9, 'close': 3854, 'volume': 4079.0419958, 'day': '2019-03-08'}\n",
      "{'exchange': 'kraken', 'symbol': 'btc', 'open': 5384, 'high': 5645, 'low': 5363.3, 'close': 5525.4, 'volume': 8263.20082226, 'day': '2019-04-24'}\n",
      "{'exchange': 'kraken', 'symbol': 'btc', 'open': 3622.1, 'high': 3744.2, 'low': 3589.6, 'close': 3625.7, 'volume': 3623.0668471, 'day': '2019-02-10'}\n",
      "{'exchange': 'kraken', 'symbol': 'btc', 'open': 10749.4, 'high': 11239, 'low': 9900, 'close': 10575.9, 'volume': 14633.39438537, 'day': '2019-07-02'}\n"
     ]
    }
   ],
   "source": [
    "with buddy.measure_time() as tm:\n",
    "    with ThreadPoolExecutor() as ex:\n",
    "        futures = [ex.submit(get_price, url) for url in urls]\n",
    "\n",
    "    for future in as_completed(futures):\n",
    "        print(future.result())"
   ]
  },
  {
   "cell_type": "code",
   "execution_count": 55,
   "metadata": {},
   "outputs": [
    {
     "name": "stdout",
     "output_type": "stream",
     "text": [
      "Total duration: 0.91 seconds\n"
     ]
    }
   ],
   "source": [
    "tm.print()"
   ]
  }
 ],
 "metadata": {
  "kernelspec": {
   "display_name": "Python 3",
   "language": "python",
   "name": "python3"
  },
  "language_info": {
   "codemirror_mode": {
    "name": "ipython",
    "version": 3
   },
   "file_extension": ".py",
   "mimetype": "text/x-python",
   "name": "python",
   "nbconvert_exporter": "python",
   "pygments_lexer": "ipython3",
   "version": "3.7.4"
  }
 },
 "nbformat": 4,
 "nbformat_minor": 4
}
