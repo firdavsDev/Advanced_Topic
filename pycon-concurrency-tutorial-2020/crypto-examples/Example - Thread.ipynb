{
 "cells": [
  {
   "cell_type": "code",
   "execution_count": 1,
   "metadata": {},
   "outputs": [],
   "source": [
    "import random\n",
    "import itertools\n",
    "import threading\n",
    "import queue\n",
    "from concurrent.futures import ThreadPoolExecutor, as_completed\n",
    "\n",
    "import requests\n",
    "import pandas as pd\n",
    "import speaker_buddy as buddy"
   ]
  },
  {
   "cell_type": "markdown",
   "metadata": {},
   "source": [
    "### Exchanges"
   ]
  },
  {
   "cell_type": "code",
   "execution_count": 2,
   "metadata": {},
   "outputs": [],
   "source": [
    "EXCHANGES= [\n",
    "    'bitfinex',\n",
    "    'coinbase-pro',\n",
    "    'bitstamp',\n",
    "    'kraken',\n",
    "    'cexio',\n",
    "    'okcoin',\n",
    "    'bitmex',\n",
    "    'mexbt',\n",
    "    'huobi',\n",
    "    'poloniex',\n",
    "    'bittrex',\n",
    "    'okex',\n",
    "    'hitbtc'\n",
    "]"
   ]
  },
  {
   "cell_type": "markdown",
   "metadata": {},
   "source": [
    "### Symbols"
   ]
  },
  {
   "cell_type": "code",
   "execution_count": 3,
   "metadata": {},
   "outputs": [],
   "source": [
    "SYMBOLS = ['btc', 'ltc', 'eth']"
   ]
  },
  {
   "cell_type": "markdown",
   "metadata": {},
   "source": [
    "### Combinations"
   ]
  },
  {
   "cell_type": "code",
   "execution_count": 4,
   "metadata": {},
   "outputs": [],
   "source": [
    "ALL_COMBINATIONS = list(itertools.product(EXCHANGES, SYMBOLS))"
   ]
  },
  {
   "cell_type": "markdown",
   "metadata": {},
   "source": [
    "### Random Combinatios"
   ]
  },
  {
   "cell_type": "code",
   "execution_count": 5,
   "metadata": {},
   "outputs": [],
   "source": [
    "combinations = [random.choice(ALL_COMBINATIONS) for _ in range(10)]"
   ]
  },
  {
   "cell_type": "markdown",
   "metadata": {},
   "source": [
    "### Random Dates"
   ]
  },
  {
   "cell_type": "code",
   "execution_count": 6,
   "metadata": {},
   "outputs": [],
   "source": [
    "ALL_DATES = [d.strftime('%Y-%m-%d') for d in pd.date_range('2019-01-01', '2019-07-20', freq='D')]"
   ]
  },
  {
   "cell_type": "code",
   "execution_count": 7,
   "metadata": {},
   "outputs": [],
   "source": [
    "dates = [random.choice(ALL_DATES) for _ in range(5)]"
   ]
  },
  {
   "cell_type": "markdown",
   "metadata": {},
   "source": [
    "### Summary"
   ]
  },
  {
   "cell_type": "code",
   "execution_count": 8,
   "metadata": {},
   "outputs": [
    {
     "data": {
      "text/plain": [
       "['2019-06-27', '2019-06-02', '2019-03-21', '2019-03-14', '2019-03-09']"
      ]
     },
     "execution_count": 8,
     "metadata": {},
     "output_type": "execute_result"
    }
   ],
   "source": [
    "dates"
   ]
  },
  {
   "cell_type": "code",
   "execution_count": 9,
   "metadata": {},
   "outputs": [
    {
     "data": {
      "text/plain": [
       "[('bitstamp', 'eth'),\n",
       " ('bitmex', 'btc'),\n",
       " ('coinbase-pro', 'ltc'),\n",
       " ('bitmex', 'ltc'),\n",
       " ('bittrex', 'btc'),\n",
       " ('bitmex', 'ltc'),\n",
       " ('cexio', 'ltc'),\n",
       " ('huobi', 'eth'),\n",
       " ('okex', 'eth'),\n",
       " ('cexio', 'ltc')]"
      ]
     },
     "execution_count": 9,
     "metadata": {},
     "output_type": "execute_result"
    }
   ],
   "source": [
    "combinations"
   ]
  },
  {
   "cell_type": "code",
   "execution_count": 10,
   "metadata": {},
   "outputs": [
    {
     "data": {
      "text/plain": [
       "[(('bitstamp', 'eth'), '2019-06-27'),\n",
       " (('bitstamp', 'eth'), '2019-06-02'),\n",
       " (('bitstamp', 'eth'), '2019-03-21')]"
      ]
     },
     "execution_count": 10,
     "metadata": {},
     "output_type": "execute_result"
    }
   ],
   "source": [
    "data = list(itertools.product(combinations, dates))\n",
    "data[:3]"
   ]
  },
  {
   "cell_type": "code",
   "execution_count": 11,
   "metadata": {},
   "outputs": [],
   "source": [
    "URL = 'http://localhost:5000/price/{exchange}/{symbol}/{date}'"
   ]
  },
  {
   "cell_type": "code",
   "execution_count": 12,
   "metadata": {},
   "outputs": [],
   "source": [
    "price_urls = [\n",
    "        URL.format(exchange=exchange, symbol=symbol, date=date)\n",
    "    for (exchange, symbol), date in data]"
   ]
  },
  {
   "cell_type": "code",
   "execution_count": 13,
   "metadata": {},
   "outputs": [
    {
     "data": {
      "text/plain": [
       "['http://localhost:5000/price/bitstamp/eth/2019-06-27',\n",
       " 'http://localhost:5000/price/bitstamp/eth/2019-06-02',\n",
       " 'http://localhost:5000/price/bitstamp/eth/2019-03-21']"
      ]
     },
     "execution_count": 13,
     "metadata": {},
     "output_type": "execute_result"
    }
   ],
   "source": [
    "price_urls[:3]"
   ]
  },
  {
   "cell_type": "code",
   "execution_count": 14,
   "metadata": {},
   "outputs": [
    {
     "data": {
      "text/plain": [
       "50"
      ]
     },
     "execution_count": 14,
     "metadata": {},
     "output_type": "execute_result"
    }
   ],
   "source": [
    "len(price_urls)"
   ]
  },
  {
   "cell_type": "markdown",
   "metadata": {},
   "source": [
    "### A simple test"
   ]
  },
  {
   "cell_type": "code",
   "execution_count": 15,
   "metadata": {},
   "outputs": [],
   "source": [
    "resp = requests.get(price_urls[0])"
   ]
  },
  {
   "cell_type": "code",
   "execution_count": 16,
   "metadata": {},
   "outputs": [
    {
     "data": {
      "text/plain": [
       "{'exchange': 'bitstamp',\n",
       " 'symbol': 'eth',\n",
       " 'open': 316.26,\n",
       " 'high': 363.18,\n",
       " 'low': 310,\n",
       " 'close': 334.78,\n",
       " 'volume': 159911.94085667,\n",
       " 'day': '2019-06-27'}"
      ]
     },
     "execution_count": 16,
     "metadata": {},
     "output_type": "execute_result"
    }
   ],
   "source": [
    "resp.json()"
   ]
  },
  {
   "cell_type": "markdown",
   "metadata": {},
   "source": [
    "We'll do the same thing for all of them."
   ]
  },
  {
   "cell_type": "markdown",
   "metadata": {},
   "source": [
    "---"
   ]
  },
  {
   "cell_type": "markdown",
   "metadata": {},
   "source": [
    "# Multi threaded"
   ]
  },
  {
   "cell_type": "code",
   "execution_count": 17,
   "metadata": {},
   "outputs": [],
   "source": [
    "THREAD_COUNT = 5"
   ]
  },
  {
   "cell_type": "code",
   "execution_count": 18,
   "metadata": {},
   "outputs": [],
   "source": [
    "import queue"
   ]
  },
  {
   "cell_type": "code",
   "execution_count": 19,
   "metadata": {},
   "outputs": [],
   "source": [
    "url_queue = queue.Queue()\n",
    "results_queue = queue.Queue()\n",
    "for url in price_urls:\n",
    "    url_queue.put(url)"
   ]
  },
  {
   "cell_type": "code",
   "execution_count": 20,
   "metadata": {},
   "outputs": [],
   "source": [
    "import time\n",
    "class PriceProcessThread(threading.Thread):\n",
    "    def __init__(self, url_queue, results_queue, *args, **kwargs):\n",
    "        super().__init__(*args, **kwargs)\n",
    "        self.url_queue = url_queue\n",
    "        self.results_queue = results_queue\n",
    "        \n",
    "    def run(self):\n",
    "        while True:\n",
    "            url = self.url_queue.get()\n",
    "            resp = requests.get(url)\n",
    "            self.results_queue.put((url, resp.json()))\n",
    "            self.url_queue.task_done()"
   ]
  },
  {
   "cell_type": "code",
   "execution_count": 21,
   "metadata": {
    "scrolled": true
   },
   "outputs": [],
   "source": [
    "for _ in range(THREAD_COUNT):\n",
    "    worker = PriceProcessThread(url_queue, results_queue, daemon=True)\n",
    "    worker.start()"
   ]
  },
  {
   "cell_type": "code",
   "execution_count": 22,
   "metadata": {},
   "outputs": [],
   "source": [
    "url_queue.join()"
   ]
  },
  {
   "cell_type": "code",
   "execution_count": 23,
   "metadata": {},
   "outputs": [
    {
     "data": {
      "text/plain": [
       "0"
      ]
     },
     "execution_count": 23,
     "metadata": {},
     "output_type": "execute_result"
    }
   ],
   "source": [
    "url_queue.qsize()"
   ]
  },
  {
   "cell_type": "code",
   "execution_count": 24,
   "metadata": {
    "scrolled": true
   },
   "outputs": [
    {
     "data": {
      "text/plain": [
       "50"
      ]
     },
     "execution_count": 24,
     "metadata": {},
     "output_type": "execute_result"
    }
   ],
   "source": [
    "results_queue.qsize()"
   ]
  },
  {
   "cell_type": "code",
   "execution_count": 25,
   "metadata": {},
   "outputs": [],
   "source": [
    "EXCHANGES = {}"
   ]
  },
  {
   "cell_type": "code",
   "execution_count": 26,
   "metadata": {},
   "outputs": [
    {
     "name": "stdout",
     "output_type": "stream",
     "text": [
      "2019-06-27 - bitstamp - ETH: 334.78\n",
      "2019-06-02 - bitstamp - ETH: 264.56\n",
      "2019-03-14 - bitstamp - ETH: 131.16\n",
      "2019-03-09 - bitstamp - ETH: 132.8\n",
      "2019-03-21 - bitstamp - ETH: 138.71\n",
      "2019-06-27 - bitmex - BTC: None\n",
      "2019-06-02 - bitmex - BTC: None\n",
      "2019-03-21 - bitmex - BTC: None\n",
      "2019-03-09 - bitmex - BTC: None\n",
      "2019-03-14 - bitmex - BTC: None\n",
      "2019-06-27 - coinbase-pro - LTC: 130.64\n",
      "2019-06-02 - coinbase-pro - LTC: 112.48\n",
      "2019-03-21 - coinbase-pro - LTC: 60.21\n",
      "2019-03-09 - coinbase-pro - LTC: 55.33\n",
      "2019-03-14 - coinbase-pro - LTC: 55.06\n",
      "2019-06-27 - bitmex - LTC: None\n",
      "2019-06-02 - bitmex - LTC: None\n",
      "2019-03-21 - bitmex - LTC: None\n",
      "2019-03-14 - bitmex - LTC: None\n",
      "2019-03-09 - bitmex - LTC: None\n",
      "2019-06-27 - bittrex - BTC: 12763.001\n",
      "2019-06-02 - bittrex - BTC: 8555.879\n",
      "2019-03-21 - bittrex - BTC: 4036.183\n",
      "2019-03-14 - bittrex - BTC: 3850.675\n",
      "2019-03-09 - bittrex - BTC: 3842.137\n",
      "2019-06-02 - bitmex - LTC: None\n",
      "2019-06-27 - bitmex - LTC: None\n",
      "2019-03-21 - bitmex - LTC: None\n",
      "2019-03-14 - bitmex - LTC: None\n",
      "2019-03-09 - bitmex - LTC: None\n",
      "2019-03-21 - cexio - LTC: 62.49\n",
      "2019-06-02 - cexio - LTC: 112.3\n",
      "2019-06-27 - cexio - LTC: 132.32\n",
      "2019-03-14 - cexio - LTC: 56.71\n",
      "2019-03-09 - cexio - LTC: 57.04\n",
      "2019-03-21 - huobi - ETH: 139.02\n",
      "2019-06-02 - huobi - ETH: 264.28\n",
      "2019-06-27 - huobi - ETH: 339.42\n",
      "2019-03-14 - huobi - ETH: 131.71\n",
      "2019-03-09 - huobi - ETH: 133.56\n",
      "2019-06-02 - okex - ETH: 264.24\n",
      "2019-06-27 - okex - ETH: 339.36\n",
      "2019-03-21 - okex - ETH: 139.03\n",
      "2019-03-14 - okex - ETH: 131.68\n",
      "2019-03-09 - okex - ETH: 133.5262\n",
      "2019-06-27 - cexio - LTC: 132.32\n",
      "2019-06-02 - cexio - LTC: 112.3\n",
      "2019-03-21 - cexio - LTC: 62.49\n",
      "2019-03-09 - cexio - LTC: 57.04\n",
      "2019-03-14 - cexio - LTC: 56.71\n"
     ]
    }
   ],
   "source": [
    "while not results_queue.empty():\n",
    "    url, result = results_queue.get()\n",
    "    (*_, exchange, symbol, date) = url.split('/')\n",
    "    print(f\"{date} - {exchange} - {symbol.upper()}: {(result or {}).get('close')}\")"
   ]
  },
  {
   "cell_type": "markdown",
   "metadata": {},
   "source": [
    "## `concurrent.futures`\n",
    "\n",
    "The code we have produced includes multiple of the issues we mentioned before. `concurrent.futures` is a library that includes a high level abstraction for concurrency, with many issues already solved. The library is very well built and its simplicity relies in 2 main abstractions:\n",
    "\n",
    "* The `Executor`: in charge of scheduling and synchronizing jobs\n",
    "* A `Future`: an object encapsulating the state of a concurrent computation"
   ]
  },
  {
   "cell_type": "code",
   "execution_count": 27,
   "metadata": {},
   "outputs": [],
   "source": [
    "import time"
   ]
  },
  {
   "cell_type": "code",
   "execution_count": 28,
   "metadata": {},
   "outputs": [],
   "source": [
    "from concurrent.futures import ThreadPoolExecutor"
   ]
  },
  {
   "cell_type": "markdown",
   "metadata": {},
   "source": [
    "With the `Executor` we'll schedule multiple tasks, we'll define the task as a simple function:"
   ]
  },
  {
   "cell_type": "code",
   "execution_count": 74,
   "metadata": {},
   "outputs": [],
   "source": [
    "def get_price(url):\n",
    "    time.sleep(.25)\n",
    "    resp = requests.get(url)\n",
    "    return resp.json()"
   ]
  },
  {
   "cell_type": "markdown",
   "metadata": {},
   "source": [
    "We want to run this for each URL:"
   ]
  },
  {
   "cell_type": "code",
   "execution_count": 30,
   "metadata": {
    "scrolled": true
   },
   "outputs": [
    {
     "data": {
      "text/plain": [
       "{'exchange': 'bitstamp',\n",
       " 'symbol': 'eth',\n",
       " 'open': 316.26,\n",
       " 'high': 363.18,\n",
       " 'low': 310,\n",
       " 'close': 334.78,\n",
       " 'volume': 159911.94085667,\n",
       " 'day': '2019-06-27'}"
      ]
     },
     "execution_count": 30,
     "metadata": {},
     "output_type": "execute_result"
    }
   ],
   "source": [
    "get_price(price_urls[0])"
   ]
  },
  {
   "cell_type": "markdown",
   "metadata": {},
   "source": [
    "Now the code. First we create an executor:"
   ]
  },
  {
   "cell_type": "code",
   "execution_count": 75,
   "metadata": {},
   "outputs": [],
   "source": [
    "executor = ThreadPoolExecutor(max_workers=THREAD_COUNT)"
   ]
  },
  {
   "cell_type": "markdown",
   "metadata": {},
   "source": [
    "We \"schedule\" all the jobs with the `submit()` method. Each `submit()` call returns a `Future` (that we'll use later)."
   ]
  },
  {
   "cell_type": "code",
   "execution_count": 76,
   "metadata": {},
   "outputs": [],
   "source": [
    "futures = [executor.submit(get_price, url) for url in price_urls]"
   ]
  },
  {
   "cell_type": "code",
   "execution_count": 77,
   "metadata": {},
   "outputs": [
    {
     "data": {
      "text/plain": [
       "[<Future at 0x1133df450 state=finished returned dict>,\n",
       " <Future at 0x1133dffd0 state=finished returned dict>,\n",
       " <Future at 0x1133dfe50 state=finished returned dict>,\n",
       " <Future at 0x1133ec810 state=finished returned dict>,\n",
       " <Future at 0x1133ece90 state=finished returned dict>,\n",
       " <Future at 0x1133eca10 state=running>,\n",
       " <Future at 0x1133ecd10 state=running>,\n",
       " <Future at 0x1133ec790 state=running>,\n",
       " <Future at 0x1133ecbd0 state=running>,\n",
       " <Future at 0x1133ec8d0 state=running>,\n",
       " <Future at 0x1133ec910 state=pending>,\n",
       " <Future at 0x1133ec5d0 state=pending>,\n",
       " <Future at 0x1133ec850 state=pending>,\n",
       " <Future at 0x1133ec510 state=pending>,\n",
       " <Future at 0x1133eca90 state=pending>,\n",
       " <Future at 0x1133ec250 state=pending>,\n",
       " <Future at 0x1133ec210 state=pending>,\n",
       " <Future at 0x1133ec090 state=pending>,\n",
       " <Future at 0x1133dd550 state=pending>,\n",
       " <Future at 0x1134a66d0 state=pending>,\n",
       " <Future at 0x1134a6a90 state=pending>,\n",
       " <Future at 0x1134a61d0 state=pending>,\n",
       " <Future at 0x1134a6cd0 state=pending>,\n",
       " <Future at 0x1134a6150 state=pending>,\n",
       " <Future at 0x113931f90 state=pending>,\n",
       " <Future at 0x113931ad0 state=pending>,\n",
       " <Future at 0x113931710 state=pending>,\n",
       " <Future at 0x113931b90 state=pending>,\n",
       " <Future at 0x1139310d0 state=pending>,\n",
       " <Future at 0x113931a50 state=pending>,\n",
       " <Future at 0x113931410 state=pending>,\n",
       " <Future at 0x113931f10 state=pending>,\n",
       " <Future at 0x11390e0d0 state=pending>,\n",
       " <Future at 0x11390e590 state=pending>,\n",
       " <Future at 0x11390ea50 state=pending>,\n",
       " <Future at 0x11390ed90 state=pending>,\n",
       " <Future at 0x113da7790 state=pending>,\n",
       " <Future at 0x11153c590 state=pending>,\n",
       " <Future at 0x11345ad50 state=pending>,\n",
       " <Future at 0x11345ab10 state=pending>,\n",
       " <Future at 0x11345aa50 state=pending>,\n",
       " <Future at 0x11345a850 state=pending>,\n",
       " <Future at 0x11345ad10 state=pending>,\n",
       " <Future at 0x11345ad90 state=pending>,\n",
       " <Future at 0x11345ac50 state=pending>,\n",
       " <Future at 0x11345afd0 state=pending>,\n",
       " <Future at 0x110ce0510 state=pending>,\n",
       " <Future at 0x11393d050 state=pending>,\n",
       " <Future at 0x11153d850 state=pending>,\n",
       " <Future at 0x113a46750 state=pending>]"
      ]
     },
     "execution_count": 77,
     "metadata": {},
     "output_type": "execute_result"
    }
   ],
   "source": [
    "futures"
   ]
  },
  {
   "cell_type": "markdown",
   "metadata": {},
   "source": [
    "Most of the `Future`s will be _pending_. They're still being executed by the `Executor`."
   ]
  },
  {
   "cell_type": "code",
   "execution_count": 78,
   "metadata": {},
   "outputs": [],
   "source": [
    "f = futures[-1]"
   ]
  },
  {
   "cell_type": "code",
   "execution_count": 81,
   "metadata": {},
   "outputs": [
    {
     "data": {
      "text/plain": [
       "True"
      ]
     },
     "execution_count": 81,
     "metadata": {},
     "output_type": "execute_result"
    }
   ],
   "source": [
    "f.done()"
   ]
  },
  {
   "cell_type": "code",
   "execution_count": 82,
   "metadata": {},
   "outputs": [
    {
     "data": {
      "text/plain": [
       "False"
      ]
     },
     "execution_count": 82,
     "metadata": {},
     "output_type": "execute_result"
    }
   ],
   "source": [
    "f.running()"
   ]
  },
  {
   "cell_type": "code",
   "execution_count": 73,
   "metadata": {},
   "outputs": [
    {
     "data": {
      "text/plain": [
       "{'exchange': 'cexio',\n",
       " 'symbol': 'ltc',\n",
       " 'open': 57.05,\n",
       " 'high': 58.78,\n",
       " 'low': 55.44,\n",
       " 'close': 57.04,\n",
       " 'volume': 865.43857064,\n",
       " 'day': '2019-03-09'}"
      ]
     },
     "execution_count": 73,
     "metadata": {},
     "output_type": "execute_result"
    }
   ],
   "source": [
    "f.result()  # will block until a result arrives"
   ]
  },
  {
   "cell_type": "markdown",
   "metadata": {},
   "source": [
    "We can use the `as_completed` module-level function to produce start receiving results as they're completed:"
   ]
  },
  {
   "cell_type": "code",
   "execution_count": 84,
   "metadata": {},
   "outputs": [
    {
     "name": "stdout",
     "output_type": "stream",
     "text": [
      "{'exchange': 'cexio', 'symbol': 'ltc', 'open': 137.38, 'high': 139, 'low': 126.04, 'close': 132.32, 'volume': 2025.74943904, 'day': '2019-06-27'}\n",
      "{'exchange': 'huobi', 'symbol': 'eth', 'open': 267.97, 'high': 275.25, 'low': 260.88, 'close': 264.28, 'volume': 87412.29847513558, 'day': '2019-06-02'}\n",
      "{'exchange': 'cexio', 'symbol': 'ltc', 'open': 57.05, 'high': 58.78, 'low': 55.44, 'close': 57.04, 'volume': 865.43857064, 'day': '2019-03-09'}\n",
      "{'exchange': 'bitstamp', 'symbol': 'eth', 'open': 268.37, 'high': 274.86, 'low': 260.88, 'close': 264.56, 'volume': 33250.87175678, 'day': '2019-06-02'}\n",
      "{'exchange': 'cexio', 'symbol': 'ltc', 'open': 115.18, 'high': 116.76, 'low': 112.12, 'close': 112.3, 'volume': 393.44924916, 'day': '2019-06-02'}\n",
      "None\n",
      "{'exchange': 'bittrex', 'symbol': 'btc', 'open': 3860.3190000000004, 'high': 3910, 'low': 3773.8059999999996, 'close': 3842.137, 'volume': 676.23358273, 'day': '2019-03-09'}\n",
      "None\n",
      "{'exchange': 'bitstamp', 'symbol': 'eth', 'open': 136.45, 'high': 138.59, 'low': 128.85, 'close': 132.8, 'volume': 48116.71528489, 'day': '2019-03-09'}\n",
      "{'exchange': 'bitstamp', 'symbol': 'eth', 'open': 137.87, 'high': 139.31, 'low': 135.26, 'close': 138.71, 'volume': 22614.42793805, 'day': '2019-03-21'}\n",
      "{'exchange': 'coinbase-pro', 'symbol': 'ltc', 'open': 114.45, 'high': 116.11, 'low': 111, 'close': 112.48, 'volume': 213514.40823597, 'day': '2019-06-02'}\n",
      "{'exchange': 'okex', 'symbol': 'eth', 'open': 133.52, 'high': 133.59, 'low': 130.7, 'close': 131.68, 'volume': 590814.578003, 'day': '2019-03-14'}\n",
      "{'exchange': 'huobi', 'symbol': 'eth', 'open': 138.53, 'high': 139.5, 'low': 136.45, 'close': 139.02, 'volume': 66930.48039926111, 'day': '2019-03-21'}\n",
      "{'exchange': 'huobi', 'symbol': 'eth', 'open': 318.34, 'high': 366.49, 'low': 315.68, 'close': 339.42, 'volume': 112386.44293307894, 'day': '2019-06-27'}\n",
      "{'exchange': 'cexio', 'symbol': 'ltc', 'open': 57.05, 'high': 57.42, 'low': 55.14, 'close': 56.71, 'volume': 275.29225939, 'day': '2019-03-14'}\n",
      "{'exchange': 'huobi', 'symbol': 'eth', 'open': 133.52, 'high': 133.53, 'low': 130.76, 'close': 131.71, 'volume': 83014.57761951843, 'day': '2019-03-14'}\n",
      "None\n",
      "{'exchange': 'cexio', 'symbol': 'ltc', 'open': 115.18, 'high': 116.76, 'low': 112.12, 'close': 112.3, 'volume': 393.44924916, 'day': '2019-06-02'}\n",
      "{'exchange': 'okex', 'symbol': 'eth', 'open': 138.55, 'high': 139.67, 'low': 136.11, 'close': 139.03, 'volume': 630725.86188, 'day': '2019-03-21'}\n",
      "{'exchange': 'coinbase-pro', 'symbol': 'ltc', 'open': 56.2, 'high': 56.46, 'low': 54.12, 'close': 55.06, 'volume': 111587.98549472, 'day': '2019-03-14'}\n",
      "None\n",
      "{'exchange': 'bittrex', 'symbol': 'btc', 'open': 4001.563, 'high': 4045.441, 'low': 3965.0009999999997, 'close': 4036.183, 'volume': 826.4809965, 'day': '2019-03-21'}\n",
      "{'exchange': 'okex', 'symbol': 'eth', 'open': 136.8315, 'high': 139.3953, 'low': 130.6111, 'close': 133.5262, 'volume': 1173324.367533, 'day': '2019-03-09'}\n",
      "{'exchange': 'bitstamp', 'symbol': 'eth', 'open': 316.26, 'high': 363.18, 'low': 310, 'close': 334.78, 'volume': 159911.94085667, 'day': '2019-06-27'}\n",
      "None\n",
      "{'exchange': 'cexio', 'symbol': 'ltc', 'open': 137.38, 'high': 139, 'low': 126.04, 'close': 132.32, 'volume': 2025.74943904, 'day': '2019-06-27'}\n",
      "None\n",
      "None\n",
      "{'exchange': 'huobi', 'symbol': 'eth', 'open': 136.83, 'high': 139.31, 'low': 130.74, 'close': 133.56, 'volume': 83951.42661891531, 'day': '2019-03-09'}\n",
      "None\n",
      "{'exchange': 'bittrex', 'symbol': 'btc', 'open': 11765.143, 'high': 13849, 'low': 11362, 'close': 12763.001, 'volume': 3112.99712421, 'day': '2019-06-27'}\n",
      "{'exchange': 'coinbase-pro', 'symbol': 'ltc', 'open': 56.51, 'high': 57.38, 'low': 54.02, 'close': 55.33, 'volume': 226487.36983756, 'day': '2019-03-09'}\n",
      "{'exchange': 'okex', 'symbol': 'eth', 'open': 318.28, 'high': 366.58, 'low': 315.74, 'close': 339.36, 'volume': 1550901.613665, 'day': '2019-06-27'}\n",
      "{'exchange': 'cexio', 'symbol': 'ltc', 'open': 57.05, 'high': 58.78, 'low': 55.44, 'close': 57.04, 'volume': 865.43857064, 'day': '2019-03-09'}\n",
      "None\n",
      "None\n",
      "None\n",
      "None\n",
      "{'exchange': 'bittrex', 'symbol': 'btc', 'open': 8560.001, 'high': 8614.999, 'low': 8456.7, 'close': 8555.879, 'volume': 300.51930649999997, 'day': '2019-06-02'}\n",
      "{'exchange': 'bittrex', 'symbol': 'btc', 'open': 3866.5190000000002, 'high': 3873.68, 'low': 3830, 'close': 3850.675, 'volume': 566.81715581, 'day': '2019-03-14'}\n",
      "{'exchange': 'coinbase-pro', 'symbol': 'ltc', 'open': 135.55, 'high': 138.21, 'low': 122.46, 'close': 130.64, 'volume': 664476.7692435001, 'day': '2019-06-27'}\n",
      "{'exchange': 'cexio', 'symbol': 'ltc', 'open': 61.97, 'high': 62.5, 'low': 60.45, 'close': 62.49, 'volume': 196.64591793, 'day': '2019-03-21'}\n",
      "None\n",
      "None\n",
      "None\n",
      "{'exchange': 'cexio', 'symbol': 'ltc', 'open': 57.05, 'high': 57.42, 'low': 55.14, 'close': 56.71, 'volume': 275.29225939, 'day': '2019-03-14'}\n",
      "{'exchange': 'okex', 'symbol': 'eth', 'open': 268.02, 'high': 276.45, 'low': 261, 'close': 264.24, 'volume': 1056614.3600746896, 'day': '2019-06-02'}\n",
      "{'exchange': 'coinbase-pro', 'symbol': 'ltc', 'open': 59.27, 'high': 60.91, 'low': 56.8, 'close': 60.21, 'volume': 155413.65331532, 'day': '2019-03-21'}\n",
      "{'exchange': 'cexio', 'symbol': 'ltc', 'open': 61.97, 'high': 62.5, 'low': 60.45, 'close': 62.49, 'volume': 196.64591793, 'day': '2019-03-21'}\n",
      "{'exchange': 'bitstamp', 'symbol': 'eth', 'open': 132.76, 'high': 132.76, 'low': 130.12, 'close': 131.16, 'volume': 13036.65120447, 'day': '2019-03-14'}\n"
     ]
    }
   ],
   "source": [
    "for future in as_completed(futures):\n",
    "    print(future.result())"
   ]
  },
  {
   "cell_type": "markdown",
   "metadata": {},
   "source": [
    "**Important!** We must shutdown the Executor once we're done using it. This way it'll free the resources:"
   ]
  },
  {
   "cell_type": "code",
   "execution_count": 85,
   "metadata": {},
   "outputs": [],
   "source": [
    "executor.shutdown()"
   ]
  },
  {
   "cell_type": "markdown",
   "metadata": {},
   "source": [
    "### A better approach\n",
    "\n",
    "The `Executor` class can act as a Context Manager (`with`). That allows us to simplify the above code in:"
   ]
  },
  {
   "cell_type": "code",
   "execution_count": 86,
   "metadata": {},
   "outputs": [
    {
     "name": "stdout",
     "output_type": "stream",
     "text": [
      "{'exchange': 'bitstamp', 'symbol': 'eth', 'open': 316.26, 'high': 363.18, 'low': 310, 'close': 334.78, 'volume': 159911.94085667, 'day': '2019-06-27'}\n",
      "{'exchange': 'bitstamp', 'symbol': 'eth', 'open': 268.37, 'high': 274.86, 'low': 260.88, 'close': 264.56, 'volume': 33250.87175678, 'day': '2019-06-02'}\n",
      "None\n",
      "{'exchange': 'coinbase-pro', 'symbol': 'ltc', 'open': 59.27, 'high': 60.91, 'low': 56.8, 'close': 60.21, 'volume': 155413.65331532, 'day': '2019-03-21'}\n",
      "{'exchange': 'coinbase-pro', 'symbol': 'ltc', 'open': 114.45, 'high': 116.11, 'low': 111, 'close': 112.48, 'volume': 213514.40823597, 'day': '2019-06-02'}\n",
      "None\n",
      "None\n",
      "{'exchange': 'bitstamp', 'symbol': 'eth', 'open': 137.87, 'high': 139.31, 'low': 135.26, 'close': 138.71, 'volume': 22614.42793805, 'day': '2019-03-21'}\n",
      "None\n",
      "None\n",
      "{'exchange': 'bitstamp', 'symbol': 'eth', 'open': 136.45, 'high': 138.59, 'low': 128.85, 'close': 132.8, 'volume': 48116.71528489, 'day': '2019-03-09'}\n",
      "None\n",
      "None\n",
      "None\n",
      "{'exchange': 'coinbase-pro', 'symbol': 'ltc', 'open': 56.51, 'high': 57.38, 'low': 54.02, 'close': 55.33, 'volume': 226487.36983756, 'day': '2019-03-09'}\n",
      "None\n",
      "{'exchange': 'coinbase-pro', 'symbol': 'ltc', 'open': 135.55, 'high': 138.21, 'low': 122.46, 'close': 130.64, 'volume': 664476.7692435001, 'day': '2019-06-27'}\n",
      "{'exchange': 'coinbase-pro', 'symbol': 'ltc', 'open': 56.2, 'high': 56.46, 'low': 54.12, 'close': 55.06, 'volume': 111587.98549472, 'day': '2019-03-14'}\n",
      "{'exchange': 'bitstamp', 'symbol': 'eth', 'open': 132.76, 'high': 132.76, 'low': 130.12, 'close': 131.16, 'volume': 13036.65120447, 'day': '2019-03-14'}\n",
      "None\n",
      "{'exchange': 'bittrex', 'symbol': 'btc', 'open': 11765.143, 'high': 13849, 'low': 11362, 'close': 12763.001, 'volume': 3112.99712421, 'day': '2019-06-27'}\n",
      "{'exchange': 'bittrex', 'symbol': 'btc', 'open': 8560.001, 'high': 8614.999, 'low': 8456.7, 'close': 8555.879, 'volume': 300.51930649999997, 'day': '2019-06-02'}\n",
      "{'exchange': 'bittrex', 'symbol': 'btc', 'open': 3866.5190000000002, 'high': 3873.68, 'low': 3830, 'close': 3850.675, 'volume': 566.81715581, 'day': '2019-03-14'}\n",
      "{'exchange': 'bittrex', 'symbol': 'btc', 'open': 4001.563, 'high': 4045.441, 'low': 3965.0009999999997, 'close': 4036.183, 'volume': 826.4809965, 'day': '2019-03-21'}\n",
      "{'exchange': 'bittrex', 'symbol': 'btc', 'open': 3860.3190000000004, 'high': 3910, 'low': 3773.8059999999996, 'close': 3842.137, 'volume': 676.23358273, 'day': '2019-03-09'}\n",
      "None\n",
      "None\n",
      "None\n",
      "None\n",
      "None\n",
      "{'exchange': 'cexio', 'symbol': 'ltc', 'open': 61.97, 'high': 62.5, 'low': 60.45, 'close': 62.49, 'volume': 196.64591793, 'day': '2019-03-21'}\n",
      "{'exchange': 'huobi', 'symbol': 'eth', 'open': 133.52, 'high': 133.53, 'low': 130.76, 'close': 131.71, 'volume': 83014.57761951843, 'day': '2019-03-14'}\n",
      "{'exchange': 'cexio', 'symbol': 'ltc', 'open': 57.05, 'high': 58.78, 'low': 55.44, 'close': 57.04, 'volume': 865.43857064, 'day': '2019-03-09'}\n",
      "{'exchange': 'huobi', 'symbol': 'eth', 'open': 138.53, 'high': 139.5, 'low': 136.45, 'close': 139.02, 'volume': 66930.48039926111, 'day': '2019-03-21'}\n",
      "{'exchange': 'huobi', 'symbol': 'eth', 'open': 136.83, 'high': 139.31, 'low': 130.74, 'close': 133.56, 'volume': 83951.42661891531, 'day': '2019-03-09'}\n",
      "{'exchange': 'cexio', 'symbol': 'ltc', 'open': 115.18, 'high': 116.76, 'low': 112.12, 'close': 112.3, 'volume': 393.44924916, 'day': '2019-06-02'}\n",
      "{'exchange': 'cexio', 'symbol': 'ltc', 'open': 137.38, 'high': 139, 'low': 126.04, 'close': 132.32, 'volume': 2025.74943904, 'day': '2019-06-27'}\n",
      "{'exchange': 'huobi', 'symbol': 'eth', 'open': 318.34, 'high': 366.49, 'low': 315.68, 'close': 339.42, 'volume': 112386.44293307894, 'day': '2019-06-27'}\n",
      "{'exchange': 'cexio', 'symbol': 'ltc', 'open': 57.05, 'high': 57.42, 'low': 55.14, 'close': 56.71, 'volume': 275.29225939, 'day': '2019-03-14'}\n",
      "{'exchange': 'huobi', 'symbol': 'eth', 'open': 267.97, 'high': 275.25, 'low': 260.88, 'close': 264.28, 'volume': 87412.29847513558, 'day': '2019-06-02'}\n",
      "{'exchange': 'okex', 'symbol': 'eth', 'open': 318.28, 'high': 366.58, 'low': 315.74, 'close': 339.36, 'volume': 1550901.613665, 'day': '2019-06-27'}\n",
      "{'exchange': 'okex', 'symbol': 'eth', 'open': 268.02, 'high': 276.45, 'low': 261, 'close': 264.24, 'volume': 1056614.3600746896, 'day': '2019-06-02'}\n",
      "{'exchange': 'okex', 'symbol': 'eth', 'open': 138.55, 'high': 139.67, 'low': 136.11, 'close': 139.03, 'volume': 630725.86188, 'day': '2019-03-21'}\n",
      "{'exchange': 'okex', 'symbol': 'eth', 'open': 133.52, 'high': 133.59, 'low': 130.7, 'close': 131.68, 'volume': 590814.578003, 'day': '2019-03-14'}\n",
      "{'exchange': 'okex', 'symbol': 'eth', 'open': 136.8315, 'high': 139.3953, 'low': 130.6111, 'close': 133.5262, 'volume': 1173324.367533, 'day': '2019-03-09'}\n",
      "{'exchange': 'cexio', 'symbol': 'ltc', 'open': 137.38, 'high': 139, 'low': 126.04, 'close': 132.32, 'volume': 2025.74943904, 'day': '2019-06-27'}\n",
      "{'exchange': 'cexio', 'symbol': 'ltc', 'open': 115.18, 'high': 116.76, 'low': 112.12, 'close': 112.3, 'volume': 393.44924916, 'day': '2019-06-02'}\n",
      "{'exchange': 'cexio', 'symbol': 'ltc', 'open': 61.97, 'high': 62.5, 'low': 60.45, 'close': 62.49, 'volume': 196.64591793, 'day': '2019-03-21'}\n",
      "{'exchange': 'cexio', 'symbol': 'ltc', 'open': 57.05, 'high': 57.42, 'low': 55.14, 'close': 56.71, 'volume': 275.29225939, 'day': '2019-03-14'}\n",
      "{'exchange': 'cexio', 'symbol': 'ltc', 'open': 57.05, 'high': 58.78, 'low': 55.44, 'close': 57.04, 'volume': 865.43857064, 'day': '2019-03-09'}\n"
     ]
    }
   ],
   "source": [
    "with ThreadPoolExecutor() as executor:\n",
    "    futures = [executor.submit(get_price, url) for url in price_urls]\n",
    "\n",
    "    for future in as_completed(futures):\n",
    "        print(future.result())"
   ]
  }
 ],
 "metadata": {
  "kernelspec": {
   "display_name": "Python 3",
   "language": "python",
   "name": "python3"
  },
  "language_info": {
   "codemirror_mode": {
    "name": "ipython",
    "version": 3
   },
   "file_extension": ".py",
   "mimetype": "text/x-python",
   "name": "python",
   "nbconvert_exporter": "python",
   "pygments_lexer": "ipython3",
   "version": "3.8.0"
  }
 },
 "nbformat": 4,
 "nbformat_minor": 4
}
