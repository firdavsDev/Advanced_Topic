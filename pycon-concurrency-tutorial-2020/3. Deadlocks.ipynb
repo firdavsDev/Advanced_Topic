{
 "cells": [
  {
   "cell_type": "code",
   "execution_count": 1,
   "metadata": {},
   "outputs": [],
   "source": [
    "import time\n",
    "import threading\n",
    "from threading import Thread\n",
    "import random\n",
    "import sys"
   ]
  },
  {
   "cell_type": "markdown",
   "metadata": {},
   "source": [
    "## Deadlocks\n",
    "\n",
    "Deadlocks are yet another problematic condition that might arise as the result of poorly synchronized code.\n",
    "\n",
    "#### A simple example\n",
    "\n",
    "Let's start by analyzing a simple example: movement between two \"bank accounts\":"
   ]
  },
  {
   "cell_type": "code",
   "execution_count": 2,
   "metadata": {},
   "outputs": [],
   "source": [
    "ACCOUNTS = {\n",
    "    'a1': 1000,\n",
    "    'a2': 1000\n",
    "}\n",
    "ITERATIONS = {\n",
    "    'a1': 0,\n",
    "    'a2': 0,\n",
    "}"
   ]
  },
  {
   "cell_type": "code",
   "execution_count": 3,
   "metadata": {},
   "outputs": [],
   "source": [
    "def move_funds(_from, _to, expected):\n",
    "    name = threading.current_thread().name\n",
    "\n",
    "    while True:\n",
    "        amount = random.randint(0, 100)\n",
    "        ACCOUNTS[_from] -= amount\n",
    "        ACCOUNTS[_to] += amount\n",
    "        total = sum(ACCOUNTS.values())\n",
    "        if total != expected:\n",
    "            print(f\"{name} found an inconsistent balance: ${total}\")\n",
    "            break\n",
    "        ITERATIONS[_from] += 1"
   ]
  },
  {
   "cell_type": "markdown",
   "metadata": {},
   "source": [
    "Your already trained eye will probably spot the issue with the previous function. The operations `ACCOUNTS[_from] -= amount` and `ACCOUNTS[_to] += amount` can potentially introduce race conditions. Let's verify it anyways:"
   ]
  },
  {
   "cell_type": "code",
   "execution_count": 4,
   "metadata": {},
   "outputs": [],
   "source": [
    "t1 = threading.Thread(target=move_funds, name='Thread-1', args=('a1', 'a2', 2000))\n",
    "t2 = threading.Thread(target=move_funds, name='Thread-2', args=('a2', 'a1', 2000))"
   ]
  },
  {
   "cell_type": "code",
   "execution_count": 5,
   "metadata": {},
   "outputs": [
    {
     "name": "stdout",
     "output_type": "stream",
     "text": [
      "Thread-2 found an inconsistent balance: $-244823Thread-1 found an inconsistent balance: $-244823\n",
      "\n"
     ]
    }
   ],
   "source": [
    "t1.start()\n",
    "t2.start()"
   ]
  },
  {
   "cell_type": "markdown",
   "metadata": {},
   "source": [
    "We've confirmed once again the potential dangers of multithreaded code."
   ]
  },
  {
   "cell_type": "markdown",
   "metadata": {},
   "source": [
    "#### Fixing it with Locks\n",
    "\n",
    "We've already learned about Locks, so we can use those to try synchronizing the access to the accounts. We'll create 2 locks, on for each account:"
   ]
  },
  {
   "cell_type": "code",
   "execution_count": 6,
   "metadata": {},
   "outputs": [],
   "source": [
    "ACCOUNTS = {\n",
    "    'a1': 1000,\n",
    "    'a2': 1000\n",
    "}"
   ]
  },
  {
   "cell_type": "code",
   "execution_count": 7,
   "metadata": {},
   "outputs": [],
   "source": [
    "lock_1 = threading.Lock()\n",
    "lock_2 = threading.Lock()"
   ]
  },
  {
   "cell_type": "code",
   "execution_count": 8,
   "metadata": {},
   "outputs": [],
   "source": [
    "def move_funds(_from, _to, lock_from, lock_to, expected):\n",
    "    name = threading.current_thread().name\n",
    "    iterations = 0\n",
    "    while True:\n",
    "        amount = random.randint(0, 100)\n",
    "        with lock_from:\n",
    "            with lock_to:\n",
    "                ACCOUNTS[_from] -= amount\n",
    "                ACCOUNTS[_to] += amount\n",
    "                total = sum(ACCOUNTS.values())\n",
    "                if total != expected:\n",
    "                    print(f\"{name} found an inconsistent balance: ${total}\")\n",
    "                    break\n",
    "        iterations += 1\n",
    "        if iterations > 1_000_000:\n",
    "            print(f'{name} reached iteration limit. Stopping...')\n",
    "            return"
   ]
  },
  {
   "cell_type": "code",
   "execution_count": 9,
   "metadata": {},
   "outputs": [],
   "source": [
    "t1 = threading.Thread(target=move_funds, name='Thread-1', args=('a1', 'a2', lock_1, lock_2, 2000))\n",
    "t2 = threading.Thread(target=move_funds, name='Thread-2', args=('a2', 'a1', lock_1, lock_2, 2000))"
   ]
  },
  {
   "cell_type": "code",
   "execution_count": 10,
   "metadata": {},
   "outputs": [],
   "source": [
    "t1.start()\n",
    "t2.start()"
   ]
  },
  {
   "cell_type": "code",
   "execution_count": 11,
   "metadata": {},
   "outputs": [
    {
     "name": "stdout",
     "output_type": "stream",
     "text": [
      "Thread-1 reached iteration limit. Stopping...\n",
      "Thread-2 reached iteration limit. Stopping...\n"
     ]
    }
   ],
   "source": [
    "[t.join() for t in (t1, t2)];"
   ]
  },
  {
   "cell_type": "code",
   "execution_count": 12,
   "metadata": {},
   "outputs": [
    {
     "data": {
      "text/plain": [
       "2000"
      ]
     },
     "execution_count": 12,
     "metadata": {},
     "output_type": "execute_result"
    }
   ],
   "source": [
    "sum(ACCOUNTS.values())"
   ]
  },
  {
   "cell_type": "code",
   "execution_count": 13,
   "metadata": {},
   "outputs": [
    {
     "data": {
      "text/plain": [
       "(False, False)"
      ]
     },
     "execution_count": 13,
     "metadata": {},
     "output_type": "execute_result"
    }
   ],
   "source": [
    "lock_1.locked(), lock_2.locked()"
   ]
  },
  {
   "cell_type": "markdown",
   "metadata": {},
   "source": [
    "**Worked!** Now the access to the accounts is protected by the locks. But there's a **very dangerous** potential situation hidden in our code. If we make just 1 tiny change, altering the order of the locks that are passed to our threads, we'll find ourselves deadlocked:"
   ]
  },
  {
   "cell_type": "code",
   "execution_count": 14,
   "metadata": {},
   "outputs": [],
   "source": [
    "ACCOUNTS = {\n",
    "    'a1': 1000,\n",
    "    'a2': 1000\n",
    "}"
   ]
  },
  {
   "cell_type": "code",
   "execution_count": 15,
   "metadata": {},
   "outputs": [],
   "source": [
    "t1 = threading.Thread(target=move_funds, name='Thread-1', args=('a1', 'a2', lock_1, lock_2, 2000))\n",
    "t2 = threading.Thread(target=move_funds, name='Thread-2', args=('a2', 'a1', lock_2, lock_1, 2000))"
   ]
  },
  {
   "cell_type": "code",
   "execution_count": 16,
   "metadata": {},
   "outputs": [],
   "source": [
    "t1.start()\n",
    "t2.start()"
   ]
  },
  {
   "cell_type": "markdown",
   "metadata": {},
   "source": [
    "We'll try to `join` the threads until they finish. This will probably hang forever:"
   ]
  },
  {
   "cell_type": "code",
   "execution_count": 17,
   "metadata": {},
   "outputs": [
    {
     "ename": "KeyboardInterrupt",
     "evalue": "",
     "output_type": "error",
     "traceback": [
      "\u001b[0;31m---------------------------------------------------------------------------\u001b[0m",
      "\u001b[0;31mKeyboardInterrupt\u001b[0m                         Traceback (most recent call last)",
      "\u001b[0;32m<ipython-input-17-64b67b704c40>\u001b[0m in \u001b[0;36m<module>\u001b[0;34m\u001b[0m\n\u001b[0;32m----> 1\u001b[0;31m \u001b[0;34m[\u001b[0m\u001b[0mt\u001b[0m\u001b[0;34m.\u001b[0m\u001b[0mjoin\u001b[0m\u001b[0;34m(\u001b[0m\u001b[0;34m)\u001b[0m \u001b[0;32mfor\u001b[0m \u001b[0mt\u001b[0m \u001b[0;32min\u001b[0m \u001b[0;34m(\u001b[0m\u001b[0mt1\u001b[0m\u001b[0;34m,\u001b[0m \u001b[0mt2\u001b[0m\u001b[0;34m)\u001b[0m\u001b[0;34m]\u001b[0m\u001b[0;34m;\u001b[0m\u001b[0;34m\u001b[0m\u001b[0;34m\u001b[0m\u001b[0m\n\u001b[0m",
      "\u001b[0;32m<ipython-input-17-64b67b704c40>\u001b[0m in \u001b[0;36m<listcomp>\u001b[0;34m(.0)\u001b[0m\n\u001b[0;32m----> 1\u001b[0;31m \u001b[0;34m[\u001b[0m\u001b[0mt\u001b[0m\u001b[0;34m.\u001b[0m\u001b[0mjoin\u001b[0m\u001b[0;34m(\u001b[0m\u001b[0;34m)\u001b[0m \u001b[0;32mfor\u001b[0m \u001b[0mt\u001b[0m \u001b[0;32min\u001b[0m \u001b[0;34m(\u001b[0m\u001b[0mt1\u001b[0m\u001b[0;34m,\u001b[0m \u001b[0mt2\u001b[0m\u001b[0;34m)\u001b[0m\u001b[0;34m]\u001b[0m\u001b[0;34m;\u001b[0m\u001b[0;34m\u001b[0m\u001b[0;34m\u001b[0m\u001b[0m\n\u001b[0m",
      "\u001b[0;32m~/.pyenv/versions/3.8.0/lib/python3.8/threading.py\u001b[0m in \u001b[0;36mjoin\u001b[0;34m(self, timeout)\u001b[0m\n\u001b[1;32m   1009\u001b[0m \u001b[0;34m\u001b[0m\u001b[0m\n\u001b[1;32m   1010\u001b[0m         \u001b[0;32mif\u001b[0m \u001b[0mtimeout\u001b[0m \u001b[0;32mis\u001b[0m \u001b[0;32mNone\u001b[0m\u001b[0;34m:\u001b[0m\u001b[0;34m\u001b[0m\u001b[0;34m\u001b[0m\u001b[0m\n\u001b[0;32m-> 1011\u001b[0;31m             \u001b[0mself\u001b[0m\u001b[0;34m.\u001b[0m\u001b[0m_wait_for_tstate_lock\u001b[0m\u001b[0;34m(\u001b[0m\u001b[0;34m)\u001b[0m\u001b[0;34m\u001b[0m\u001b[0;34m\u001b[0m\u001b[0m\n\u001b[0m\u001b[1;32m   1012\u001b[0m         \u001b[0;32melse\u001b[0m\u001b[0;34m:\u001b[0m\u001b[0;34m\u001b[0m\u001b[0;34m\u001b[0m\u001b[0m\n\u001b[1;32m   1013\u001b[0m             \u001b[0;31m# the behavior of a negative timeout isn't documented, but\u001b[0m\u001b[0;34m\u001b[0m\u001b[0;34m\u001b[0m\u001b[0;34m\u001b[0m\u001b[0m\n",
      "\u001b[0;32m~/.pyenv/versions/3.8.0/lib/python3.8/threading.py\u001b[0m in \u001b[0;36m_wait_for_tstate_lock\u001b[0;34m(self, block, timeout)\u001b[0m\n\u001b[1;32m   1025\u001b[0m         \u001b[0;32mif\u001b[0m \u001b[0mlock\u001b[0m \u001b[0;32mis\u001b[0m \u001b[0;32mNone\u001b[0m\u001b[0;34m:\u001b[0m  \u001b[0;31m# already determined that the C code is done\u001b[0m\u001b[0;34m\u001b[0m\u001b[0;34m\u001b[0m\u001b[0m\n\u001b[1;32m   1026\u001b[0m             \u001b[0;32massert\u001b[0m \u001b[0mself\u001b[0m\u001b[0;34m.\u001b[0m\u001b[0m_is_stopped\u001b[0m\u001b[0;34m\u001b[0m\u001b[0;34m\u001b[0m\u001b[0m\n\u001b[0;32m-> 1027\u001b[0;31m         \u001b[0;32melif\u001b[0m \u001b[0mlock\u001b[0m\u001b[0;34m.\u001b[0m\u001b[0macquire\u001b[0m\u001b[0;34m(\u001b[0m\u001b[0mblock\u001b[0m\u001b[0;34m,\u001b[0m \u001b[0mtimeout\u001b[0m\u001b[0;34m)\u001b[0m\u001b[0;34m:\u001b[0m\u001b[0;34m\u001b[0m\u001b[0;34m\u001b[0m\u001b[0m\n\u001b[0m\u001b[1;32m   1028\u001b[0m             \u001b[0mlock\u001b[0m\u001b[0;34m.\u001b[0m\u001b[0mrelease\u001b[0m\u001b[0;34m(\u001b[0m\u001b[0;34m)\u001b[0m\u001b[0;34m\u001b[0m\u001b[0;34m\u001b[0m\u001b[0m\n\u001b[1;32m   1029\u001b[0m             \u001b[0mself\u001b[0m\u001b[0;34m.\u001b[0m\u001b[0m_stop\u001b[0m\u001b[0;34m(\u001b[0m\u001b[0;34m)\u001b[0m\u001b[0;34m\u001b[0m\u001b[0;34m\u001b[0m\u001b[0m\n",
      "\u001b[0;31mKeyboardInterrupt\u001b[0m: "
     ]
    }
   ],
   "source": [
    "[t.join() for t in (t1, t2)];"
   ]
  },
  {
   "cell_type": "markdown",
   "metadata": {},
   "source": [
    "And we'll see that NO thread has even started processing:"
   ]
  },
  {
   "cell_type": "code",
   "execution_count": 19,
   "metadata": {},
   "outputs": [
    {
     "data": {
      "text/plain": [
       "2000"
      ]
     },
     "execution_count": 19,
     "metadata": {},
     "output_type": "execute_result"
    }
   ],
   "source": [
    "sum(ACCOUNTS.values())"
   ]
  },
  {
   "cell_type": "markdown",
   "metadata": {},
   "source": [
    "Both locks are locked..."
   ]
  },
  {
   "cell_type": "code",
   "execution_count": 20,
   "metadata": {},
   "outputs": [
    {
     "data": {
      "text/plain": [
       "(True, True)"
      ]
     },
     "execution_count": 20,
     "metadata": {},
     "output_type": "execute_result"
    }
   ],
   "source": [
    "lock_1.locked(), lock_2.locked()"
   ]
  },
  {
   "cell_type": "markdown",
   "metadata": {},
   "source": [
    "Congratulations! You've just experienced your first: **DEADLOCK!**\n",
    "\n",
    "(we'll have to restart the Kernel here)."
   ]
  },
  {
   "cell_type": "markdown",
   "metadata": {},
   "source": [
    "#### What are Deadlocks and when do they happen?\n",
    "\n",
    "Wikipedia's [definition](https://en.wikipedia.org/wiki/Deadlock):\n",
    "\n",
    "> a deadlock is a state in which each member of a group is waiting for another member, including itself, to take action, such as sending a message or more commonly releasing a lock\n",
    "\n",
    "![deadlocks](img/Deadlock_at_a_four-way-stop.gif)\n",
    "\n",
    "And this is one of my favorite quotes from an Operating Systems (_Avi Silberschatz_) book I read more than 10 years ago while I was still at school:\n",
    "\n",
    "> Perhaps the best illustration of a deadlock can be drawn from a law passed by the Kansas legislature early in the 20th century. It said, in part: “When two trains approach each other at a crossing, both shall come to a full stop and neither shall start up again until the other has gone.”\n",
    "\n",
    "\n",
    "In our code, the issue is the ordering in which the locks are acquired. This is a **VERY** difficult thing to spot.\n",
    "\n",
    "![deadlocks](img/deadlocks.png)\n",
    "\n",
    "#### How to prevent Deadlocks\n",
    "\n",
    "Sorry, but I can't avoid telling you the truth: **It's very hard to prevent Deadlocks**. One simple technique is to always use timeouts when trying to acquire locks. If you're trying to acquire N shared locks, if you can't acquire all N, you can release them all and start over. Let's see an example:"
   ]
  },
  {
   "cell_type": "code",
   "execution_count": 45,
   "metadata": {},
   "outputs": [],
   "source": [
    "ACCOUNTS = {\n",
    "    'a1': 1000,\n",
    "    'a2': 1000\n",
    "}\n",
    "\n",
    "LOCK_TIMEOUT = .001\n",
    "\n",
    "lock_1 = threading.Lock()\n",
    "lock_2 = threading.Lock()"
   ]
  },
  {
   "cell_type": "code",
   "execution_count": 46,
   "metadata": {},
   "outputs": [],
   "source": [
    "def move_funds(_from, _to, lock_from, lock_to, expected):\n",
    "    name = threading.current_thread().name\n",
    "    iterations = 0\n",
    "    while True:\n",
    "        amount = random.randint(0, 100)\n",
    "        locked = False\n",
    "        while not locked:\n",
    "            res1 = lock_from.acquire(timeout=LOCK_TIMEOUT)\n",
    "            res2 = lock_to.acquire(timeout=LOCK_TIMEOUT)\n",
    "            if all([res1, res2]):\n",
    "                # Success! We acquired both locks\n",
    "                locked = True\n",
    "            else:\n",
    "                # Release locks \"partially\" acquired\n",
    "                if res1:\n",
    "                    lock_from.release()\n",
    "                if res2:\n",
    "                    lock_to.release()\n",
    "        # locked is True, we're safe\n",
    "        ACCOUNTS[_from] -= amount\n",
    "        ACCOUNTS[_to] += amount\n",
    "        total = sum(ACCOUNTS.values())\n",
    "        lock_from.release()\n",
    "        lock_to.release()\n",
    "        if total != expected:\n",
    "            print(f\"{name} found an inconsistent balance: ${total}\")\n",
    "            break\n",
    "        iterations += 1\n",
    "        if iterations > 100_000:\n",
    "            print(f'{name} reached iteration limit. Stopping...')\n",
    "            return"
   ]
  },
  {
   "cell_type": "code",
   "execution_count": 47,
   "metadata": {},
   "outputs": [],
   "source": [
    "t1 = threading.Thread(target=move_funds, name='Thread-1', args=('a1', 'a2', lock_1, lock_2, 2000))\n",
    "t2 = threading.Thread(target=move_funds, name='Thread-2', args=('a2', 'a1', lock_2, lock_1, 2000))"
   ]
  },
  {
   "cell_type": "code",
   "execution_count": 48,
   "metadata": {},
   "outputs": [],
   "source": [
    "t1.start()\n",
    "t2.start()"
   ]
  },
  {
   "cell_type": "code",
   "execution_count": 49,
   "metadata": {},
   "outputs": [
    {
     "name": "stdout",
     "output_type": "stream",
     "text": [
      "Thread-1 reached iteration limit. Stopping...\n",
      "Thread-2 reached iteration limit. Stopping...\n"
     ]
    }
   ],
   "source": [
    "[t.join() for t in (t1, t2)];"
   ]
  },
  {
   "cell_type": "code",
   "execution_count": 50,
   "metadata": {},
   "outputs": [
    {
     "data": {
      "text/plain": [
       "2000"
      ]
     },
     "execution_count": 50,
     "metadata": {},
     "output_type": "execute_result"
    }
   ],
   "source": [
    "sum(ACCOUNTS.values())"
   ]
  },
  {
   "cell_type": "code",
   "execution_count": 51,
   "metadata": {},
   "outputs": [
    {
     "data": {
      "text/plain": [
       "(False, False)"
      ]
     },
     "execution_count": 51,
     "metadata": {},
     "output_type": "execute_result"
    }
   ],
   "source": [
    "lock_1.locked(), lock_2.locked()"
   ]
  },
  {
   "cell_type": "markdown",
   "metadata": {},
   "source": [
    "As you can see, we've just prevented the deadlock. The key code piece that prevents the deadlock is the following:\n",
    "\n",
    "\n",
    "```python\n",
    "locked = False\n",
    "while not locked:\n",
    "    res1 = lock_from.acquire(timeout=LOCK_TIMEOUT)\n",
    "    res2 = lock_to.acquire(timeout=LOCK_TIMEOUT)\n",
    "    if all([res1, res2]):\n",
    "        # Success! We acquired both locks\n",
    "        locked = True\n",
    "    else:\n",
    "        # Release locks \"partially\" acquired\n",
    "        if res1:\n",
    "            lock_from.release()\n",
    "        if res2:\n",
    "            lock_to.release()         \n",
    "```\n",
    "\n",
    "If we successfully acquire both locks within the timeout window, we can proceed to perform our critical section. In other case, we'll release any \"partially\" acquired locks."
   ]
  },
  {
   "cell_type": "markdown",
   "metadata": {},
   "source": [
    "## Thread Synchronization: Summary\n",
    "\n",
    "There are several other synchronization mechanisms that we're not explicitly talking about, like `Semaphores`, `Conditions`, `Events`, `Barriers`, etc. These follow the same principles as locks, but are used for other purposes.\n",
    "\n",
    "The main takeaway from this lesson is: **synchronization is HARD, and error/bug prone**. Even the most experience developers avoid writing synchronized code, there's always something going wrong.\n",
    "\n",
    "Still, synchronization seems to be a necessary evil. We don't want to have race conditions in our code. In our following lessons we'll explore other alternatives to create correct code without the need of working with synchronization.\n",
    "\n",
    "![thistall](img/thistall.jpg)"
   ]
  }
 ],
 "metadata": {
  "kernelspec": {
   "display_name": "Python 3",
   "language": "python",
   "name": "python3"
  },
  "language_info": {
   "codemirror_mode": {
    "name": "ipython",
    "version": 3
   },
   "file_extension": ".py",
   "mimetype": "text/x-python",
   "name": "python",
   "nbconvert_exporter": "python",
   "pygments_lexer": "ipython3",
   "version": "3.8.0"
  }
 },
 "nbformat": 4,
 "nbformat_minor": 4
}
